{
 "cells": [
  {
   "cell_type": "markdown",
   "metadata": {},
   "source": [
    "# Trade Bot Analysis"
   ]
  },
  {
   "cell_type": "markdown",
   "metadata": {},
   "source": [
    "## Background \n",
    "\n",
    "Ripple's XRP is a top 5 market cap cryptocurrency traded on multiple markets. The price of XRP is highly volatile and commonly fluctuates multiple percent per day with the occasional bull/bear runs. \n",
    "\n",
    "One of the more popular exchanges for trading XRP is Bitstamp. Bitstamp has a open [api](https://www.bitstamp.net/api/) which allows the user to extract real time market data and information connected to the users account. This allows the user create trades through the api, giving the possibilty to set up trading automation in form of a bot which implements a trading strategy.  "
   ]
  },
  {
   "cell_type": "markdown",
   "metadata": {},
   "source": [
    "# Trading Strategy\n",
    "\n",
    "Using the daily fluctuation in price a naive strategy could be:\n",
    "\n",
    "<ol>\n",
    "  <li>Buy at a price X</li>\n",
    "  <li>Sell at price Y, where price why is a big enough increase in price to gain some profit while covering fee</li>\n",
    "  <li>Repeat the process when price is X using the intial value or inluding profits to purchase</li>\n",
    "</ol>\n",
    "\n",
    "### Strategy Drawbacks\n",
    "\n",
    "* The price might not go up enough to sell\n",
    "* The price might not go down again after selling."
   ]
  },
  {
   "cell_type": "markdown",
   "metadata": {},
   "source": [
    "## Mathematical  Formulation and Analysis"
   ]
  },
  {
   "cell_type": "markdown",
   "metadata": {},
   "source": [
    "#### Nomenclature\n",
    "$P$: Profit  [£] <br>\n",
    "$V_0$: Value of initial investment [£]<br>\n",
    "$i$: Interest [%] <br>\n",
    "$f_b$: Buy Fee  [%] <br>\n",
    "$f_s$: Sell Fee  [%] <br>\n",
    "$n$: Number of succesful cycles <br>\n",
    "$c$: Increased value [%] <br>\n",
    "\n",
    "#### Formula for Profit Excluding Reinvestint Profits\n",
    "The profit per succesful cycle when reinvesting **excluding** profits is given by,\n",
    "\n",
    "$$P = V_0(1+i)(1-f_b)(1-f_s) - V_0 = V_0((1+i)(1-f_b)(1-f_s) - 1)$$\n",
    "$$c = (1+i)(1-f_b)(1-f_s) $$\n",
    "$$P = V_0(c-1)$$\n",
    "\n",
    "The potential total proft is given by,\n",
    "\n",
    "$$ P_{tot} = \\sum_{i=0}^n P_i = nP$$\n",
    "\n",
    "#### Formula for Profit Including Reinvestint Profits\n",
    "The profit per succesful cycle when reinvesting **including** profits is given by,\n",
    "\n",
    "$$V_0 = V_0$$\n",
    "$$V_1 = V_0c$$\n",
    "$$V_2 = V_1c=V_0c²$$\n",
    "$$V_3 = V_2c=V_0c³$$\n",
    "$$\\vdots$$\n",
    "$$V_n = V_0c^n$$.\n",
    "$$P_n = V_n - V_0 =  V_0c^n - V_0 = V_0 (c^n - 1)$$\n",
    "\n",
    "#### Required Interest Rate\n",
    "The minimum interest required to break even $P=0$ even is, \n",
    "\n",
    "$$c = (1+i)(1-f_b)(1-f_s)  = 1  \\rightarrow i = \\frac{1}{(1-f_b)(1-f_s) } - 1$$\n",
    "\n",
    "On bitstamp $f_b = f_s = 0.5\\%$ which gives\n",
    "\n",
    "$$P(0.005, 0.005) = 0 \\rightarrow  i = 0.0100755031 \\rightarrow 1.00755031\\% $$\n",
    "\n",
    "as the break even interest rate. \n",
    "\n",
    "On Kraken $f_b = 0.26\\%$ and $f_s = 0.26\\%$ with taker fees which gives,\n",
    "\n",
    "$$P(0.0026, 0.0026) = 0 \\rightarrow  i =  0.0052203505 \\rightarrow 0.52203505\\% $$.\n",
    "\n",
    "With maker fees $f_b = 0.16\\%$ and $f_s = 0.16\\%$,\n",
    "\n",
    "$$P(0.0016, 0.0016) = 0 \\rightarrow  i =  0.0032076964 \\rightarrow 0.32076964  \\% $$\n",
    "\n",
    "The change in profit based on changes in interest can be described by the derivative,\n",
    "\n",
    "$$\\frac{dP}{di} = V_0(1-f_b)(1-f_s)$$\n",
    "\n",
    "the increase in profit based on changes in interest is constant. "
   ]
  },
  {
   "cell_type": "markdown",
   "metadata": {},
   "source": [
    "### Visualisation"
   ]
  },
  {
   "cell_type": "code",
   "execution_count": 16,
   "metadata": {},
   "outputs": [],
   "source": [
    "import matplotlib.pyplot as plt\n",
    "import numpy as np\n",
    "import plotly.graph_objects as go\n",
    "\n",
    "# Constants\n",
    "initial_value = 1000\n",
    "interest = 0.007\n",
    "succesful_cycles = np.arange(50)"
   ]
  },
  {
   "cell_type": "code",
   "execution_count": 17,
   "metadata": {},
   "outputs": [],
   "source": [
    "# Bitstamp 0.5% fees\n",
    "fee_buy = 0.005\n",
    "fee_sell = 0.005\n",
    "value_increase = (1 + interest) * (1- fee_sell) * (1 - fee_buy)\n",
    "bit_stamp_profit_reinvesting_excluding_profit = [n * (value_increase - 1) * 100 for n in succesful_cycles]\n",
    "bit_stamp_profit_reinvesting_including_profit = [(value_increase**n - 1) * 100 for n in succesful_cycles]"
   ]
  },
  {
   "cell_type": "code",
   "execution_count": 18,
   "metadata": {},
   "outputs": [],
   "source": [
    "# Kraken 0.26% fees\n",
    "fee_buy = 0.0026\n",
    "fee_sell = 0.0026\n",
    "value_increase = (1 + interest) * (1- fee_sell) * (1 - fee_buy)\n",
    "\n",
    "kraken_profit_reinvesting_excluding_profit_26 = [n * (value_increase - 1) * 100 for n in succesful_cycles]\n",
    "kraken_profit_reinvesting_including_profit_26 = [(value_increase**n - 1) * 100 for n in succesful_cycles]\n"
   ]
  },
  {
   "cell_type": "code",
   "execution_count": 19,
   "metadata": {},
   "outputs": [],
   "source": [
    "# Kraken 0.16% fees\n",
    "fee_buy = 0.0016\n",
    "fee_sell = 0.0016\n",
    "value_increase = (1 + interest) * (1- fee_sell) * (1 - fee_buy)\n",
    "\n",
    "kraken_profit_reinvesting_excluding_profit_16 = [n * (value_increase - 1) * 100 for n in succesful_cycles]\n",
    "kraken_profit_reinvesting_including_profit_16 = [(value_increase**n - 1) * 100 for n in succesful_cycles]\n"
   ]
  },
  {
   "cell_type": "code",
   "execution_count": 20,
   "metadata": {},
   "outputs": [
    {
     "data": {
      "application/vnd.plotly.v1+json": {
       "config": {
        "plotlyServerURL": "https://plot.ly"
       },
       "data": [
        {
         "mode": "lines",
         "name": "Bitstamp: Excluding Profit",
         "type": "scatter",
         "x": [
          0,
          1,
          2,
          3,
          4,
          5,
          6,
          7,
          8,
          9,
          10,
          11,
          12,
          13,
          14,
          15,
          16,
          17,
          18,
          19,
          20,
          21,
          22,
          23,
          24,
          25,
          26,
          27,
          28,
          29,
          30,
          31,
          32,
          33,
          34,
          35,
          36,
          37,
          38,
          39,
          40,
          41,
          42,
          43,
          44,
          45,
          46,
          47,
          48,
          49
         ],
         "y": [
          0,
          -0.3044825000000029,
          -0.6089650000000058,
          -0.9134475000000086,
          -1.2179300000000115,
          -1.5224125000000144,
          -1.8268950000000173,
          -2.13137750000002,
          -2.435860000000023,
          -2.740342500000026,
          -3.0448250000000288,
          -3.3493075000000316,
          -3.6537900000000345,
          -3.9582725000000374,
          -4.26275500000004,
          -4.567237500000044,
          -4.871720000000046,
          -5.1762025000000484,
          -5.480685000000052,
          -5.785167500000055,
          -6.0896500000000575,
          -6.39413250000006,
          -6.698615000000063,
          -7.003097500000067,
          -7.307580000000069,
          -7.6120625000000715,
          -7.916545000000075,
          -8.221027500000078,
          -8.52551000000008,
          -8.829992500000083,
          -9.134475000000087,
          -9.43895750000009,
          -9.743440000000092,
          -10.047922500000094,
          -10.352405000000097,
          -10.656887500000101,
          -10.961370000000104,
          -11.265852500000106,
          -11.57033500000011,
          -11.874817500000113,
          -12.179300000000115,
          -12.483782500000117,
          -12.78826500000012,
          -13.092747500000124,
          -13.397230000000127,
          -13.701712500000129,
          -14.006195000000133,
          -14.310677500000136,
          -14.615160000000138,
          -14.91964250000014
         ]
        },
        {
         "mode": "lines",
         "name": "Bitstamp: Including Profit",
         "type": "scatter",
         "x": [
          0,
          1,
          2,
          3,
          4,
          5,
          6,
          7,
          8,
          9,
          10,
          11,
          12,
          13,
          14,
          15,
          16,
          17,
          18,
          19,
          20,
          21,
          22,
          23,
          24,
          25,
          26,
          27,
          28,
          29,
          30,
          31,
          32,
          33,
          34,
          35,
          36,
          37,
          38,
          39,
          40,
          41,
          42,
          43,
          44,
          45,
          46,
          47,
          48,
          49
         ],
         "y": [
          0,
          -0.3044825000000029,
          -0.6080379040719452,
          -0.910669035060685,
          -1.2123787072159997,
          -1.5131697262188104,
          -1.8130448892071716,
          -2.112006984802395,
          -2.410058793134906,
          -2.7072030858701024,
          -3.003442626234165,
          -3.29878016903975,
          -3.593218460711556,
          -3.886760239311915,
          -4.179408234566262,
          -4.471165167888447,
          -4.762033752406136,
          -5.052016692985973,
          -5.341116686258751,
          -5.629336420644515,
          -5.916678576377532,
          -6.203145825531209,
          -6.4887408320429945,
          -6.773466251739069,
          -7.057324732359116,
          -7.340318913580912,
          -7.622451427044874,
          -7.903724896378527,
          -8.184141937220913,
          -8.463705157246915,
          -8.742417156191507,
          -9.020280525873902,
          -9.29729785022172,
          -9.573471705294923,
          -9.84880465930984,
          -10.123299272663067,
          -10.396958097955178,
          -10.669783680014577,
          -10.941778555921077,
          -11.212945255029549,
          -11.483286298993411,
          -11.75280420178808,
          -12.021501469734375,
          -12.289380601521794,
          -12.556444088231766,
          -12.822694413360814,
          -13.088134052843658,
          -13.352765475076211,
          -13.61659114093856,
          -13.879613503817856
         ]
        },
        {
         "mode": "lines",
         "name": "Kraken 26: Excluding Profit",
         "type": "scatter",
         "x": [
          0,
          1,
          2,
          3,
          4,
          5,
          6,
          7,
          8,
          9,
          10,
          11,
          12,
          13,
          14,
          15,
          16,
          17,
          18,
          19,
          20,
          21,
          22,
          23,
          24,
          25,
          26,
          27,
          28,
          29,
          30,
          31,
          32,
          33,
          34,
          35,
          36,
          37,
          38,
          39,
          40,
          41,
          42,
          43,
          44,
          45,
          46,
          47,
          48,
          49
         ],
         "y": [
          0,
          0.17704073199997783,
          0.35408146399995566,
          0.5311221959999335,
          0.7081629279999113,
          0.8852036599998891,
          1.062244391999867,
          1.2392851239998448,
          1.4163258559998226,
          1.5933665879998005,
          1.7704073199997783,
          1.9474480519997561,
          2.124488783999734,
          2.301529515999712,
          2.4785702479996896,
          2.6556109799996674,
          2.8326517119996453,
          3.009692443999623,
          3.186733175999601,
          3.3637739079995788,
          3.5408146399995566,
          3.7178553719995344,
          3.8948961039995122,
          4.07193683599949,
          4.248977567999468,
          4.426018299999446,
          4.603059031999424,
          4.780099763999401,
          4.957140495999379,
          5.134181227999357,
          5.311221959999335,
          5.488262691999313,
          5.6653034239992905,
          5.842344155999268,
          6.019384887999246,
          6.196425619999224,
          6.373466351999202,
          6.55050708399918,
          6.7275478159991575,
          6.904588547999135,
          7.081629279999113,
          7.258670011999091,
          7.435710743999069,
          7.612751475999047,
          7.7897922079990245,
          7.966832939999002,
          8.14387367199898,
          8.320914403998959,
          8.497955135998936,
          8.674995867998913
         ]
        },
        {
         "mode": "lines",
         "name": "Kraken 26: Including Profit",
         "type": "scatter",
         "x": [
          0,
          1,
          2,
          3,
          4,
          5,
          6,
          7,
          8,
          9,
          10,
          11,
          12,
          13,
          14,
          15,
          16,
          17,
          18,
          19,
          20,
          21,
          22,
          23,
          24,
          25,
          26,
          27,
          28,
          29,
          30,
          31,
          32,
          33,
          34,
          35,
          36,
          37,
          38,
          39,
          40,
          41,
          42,
          43,
          44,
          45,
          46,
          47,
          48,
          49
         ],
         "y": [
          0,
          0.17704073199997783,
          0.35439489820783265,
          0.5320630535297521,
          0.7100457538544047,
          0.8883435560545383,
          1.0669570179888455,
          1.2458866985035844,
          1.4251331574344883,
          1.6046969556083646,
          1.7845786548449372,
          1.9647788179585568,
          2.1452980087600437,
          2.3261367920583087,
          2.5072957336622625,
          2.688775400382526,
          2.8705763600331613,
          3.0526991814335602,
          3.235144434410109,
          3.4179126897980305,
          3.6010045194431406,
          3.7844204962036887,
          3.9681611939521133,
          4.152227187576796,
          4.33661905298397,
          4.521337367099387,
          4.706382707870271,
          4.891755654266983,
          5.0774567862849285,
          5.263486684946317,
          5.449845932302044,
          5.636535111433449,
          5.8235548064541565,
          6.010905602511896,
          6.198588085790391,
          6.386602843511113,
          6.57495046393517,
          6.7636315363651445,
          6.9526466511468765,
          7.141996399671413,
          7.331681374376786,
          7.521702168749855,
          7.712059377328262,
          7.902753595702117,
          8.093785420516086,
          8.285155449471059,
          8.476864281326124,
          8.668912515900406,
          8.861300754074964,
          9.054029597794667
         ]
        },
        {
         "mode": "lines",
         "name": "Kraken 16: Excluding Profit",
         "type": "scatter",
         "x": [
          0,
          1,
          2,
          3,
          4,
          5,
          6,
          7,
          8,
          9,
          10,
          11,
          12,
          13,
          14,
          15,
          16,
          17,
          18,
          19,
          20,
          21,
          22,
          23,
          24,
          25,
          26,
          27,
          28,
          29,
          30,
          31,
          32,
          33,
          34,
          35,
          36,
          37,
          38,
          39,
          40,
          41,
          42,
          43,
          44,
          45,
          46,
          47,
          48,
          49
         ],
         "y": [
          0,
          0.3780177919999739,
          0.7560355839999477,
          1.1340533759999216,
          1.5120711679998955,
          1.8900889599998694,
          2.2681067519998432,
          2.646124543999817,
          3.024142335999791,
          3.402160127999765,
          3.7801779199997387,
          4.158195711999713,
          4.5362135039996865,
          4.91423129599966,
          5.292249087999634,
          5.670266879999608,
          6.048284671999582,
          6.426302463999556,
          6.80432025599953,
          7.182338047999504,
          7.5603558399994775,
          7.938373631999451,
          8.316391423999425,
          8.6944092159994,
          9.072427007999373,
          9.450444799999346,
          9.82846259199932,
          10.206480383999295,
          10.584498175999268,
          10.962515967999241,
          11.340533759999216,
          11.718551551999191,
          12.096569343999164,
          12.474587135999137,
          12.852604927999112,
          13.230622719999086,
          13.60864051199906,
          13.986658303999032,
          14.364676095999007,
          14.742693887998982,
          15.120711679998955,
          15.498729471998928,
          15.876747263998903,
          16.254765055998877,
          16.63278284799885,
          17.010800639998823,
          17.3888184319988,
          17.766836223998773,
          18.144854015998746,
          18.52287180799872
         ]
        },
        {
         "mode": "lines",
         "name": "Kraken 16: Including Profit",
         "type": "scatter",
         "x": [
          0,
          1,
          2,
          3,
          4,
          5,
          6,
          7,
          8,
          9,
          10,
          11,
          12,
          13,
          14,
          15,
          16,
          17,
          18,
          19,
          20,
          21,
          22,
          23,
          24,
          25,
          26,
          27,
          28,
          29,
          30,
          31,
          32,
          33,
          34,
          35,
          36,
          37,
          38,
          39,
          40,
          41,
          42,
          43,
          44,
          45,
          46,
          47,
          48,
          49
         ],
         "y": [
          0,
          0.3780177919999739,
          0.7574645585106232,
          1.138345701309862,
          1.5206666425952697,
          1.904432825061253,
          2.289649711976649,
          2.676322787262375,
          3.064457555569544,
          3.454059542357868,
          3.8451342939742172,
          4.237687377731714,
          4.631724381988844,
          5.027250916229131,
          5.4242726111409345,
          5.82279511869761,
          6.222824112237957,
          6.624365286547063,
          7.027424357937262,
          7.432007064329582,
          7.838119165335411,
          8.245766442338498,
          8.654954698577288,
          9.065689759227414,
          9.477977471484799,
          9.891823704648717,
          10.307234350205551,
          10.724215321912434,
          11.142772555881608,
          11.562912010664906,
          11.984639667338492,
          12.407961529588096,
          12.832883623794423,
          13.259411999118997,
          13.687552727590212,
          14.117311904189854,
          14.548695646939812,
          14.981710096989143,
          15.416361418701596,
          15.852655799743264,
          16.290599451170795,
          16.730198607519654,
          17.171459526892964,
          17.614388491050683,
          18.058991805498813,
          18.50527579957939,
          18.953246826560456,
          19.402911263726487,
          19.85427551246932,
          20.307345998379112
         ]
        }
       ],
       "layout": {
        "template": {
         "data": {
          "bar": [
           {
            "error_x": {
             "color": "#2a3f5f"
            },
            "error_y": {
             "color": "#2a3f5f"
            },
            "marker": {
             "line": {
              "color": "#E5ECF6",
              "width": 0.5
             }
            },
            "type": "bar"
           }
          ],
          "barpolar": [
           {
            "marker": {
             "line": {
              "color": "#E5ECF6",
              "width": 0.5
             }
            },
            "type": "barpolar"
           }
          ],
          "carpet": [
           {
            "aaxis": {
             "endlinecolor": "#2a3f5f",
             "gridcolor": "white",
             "linecolor": "white",
             "minorgridcolor": "white",
             "startlinecolor": "#2a3f5f"
            },
            "baxis": {
             "endlinecolor": "#2a3f5f",
             "gridcolor": "white",
             "linecolor": "white",
             "minorgridcolor": "white",
             "startlinecolor": "#2a3f5f"
            },
            "type": "carpet"
           }
          ],
          "choropleth": [
           {
            "colorbar": {
             "outlinewidth": 0,
             "ticks": ""
            },
            "type": "choropleth"
           }
          ],
          "contour": [
           {
            "colorbar": {
             "outlinewidth": 0,
             "ticks": ""
            },
            "colorscale": [
             [
              0,
              "#0d0887"
             ],
             [
              0.1111111111111111,
              "#46039f"
             ],
             [
              0.2222222222222222,
              "#7201a8"
             ],
             [
              0.3333333333333333,
              "#9c179e"
             ],
             [
              0.4444444444444444,
              "#bd3786"
             ],
             [
              0.5555555555555556,
              "#d8576b"
             ],
             [
              0.6666666666666666,
              "#ed7953"
             ],
             [
              0.7777777777777778,
              "#fb9f3a"
             ],
             [
              0.8888888888888888,
              "#fdca26"
             ],
             [
              1,
              "#f0f921"
             ]
            ],
            "type": "contour"
           }
          ],
          "contourcarpet": [
           {
            "colorbar": {
             "outlinewidth": 0,
             "ticks": ""
            },
            "type": "contourcarpet"
           }
          ],
          "heatmap": [
           {
            "colorbar": {
             "outlinewidth": 0,
             "ticks": ""
            },
            "colorscale": [
             [
              0,
              "#0d0887"
             ],
             [
              0.1111111111111111,
              "#46039f"
             ],
             [
              0.2222222222222222,
              "#7201a8"
             ],
             [
              0.3333333333333333,
              "#9c179e"
             ],
             [
              0.4444444444444444,
              "#bd3786"
             ],
             [
              0.5555555555555556,
              "#d8576b"
             ],
             [
              0.6666666666666666,
              "#ed7953"
             ],
             [
              0.7777777777777778,
              "#fb9f3a"
             ],
             [
              0.8888888888888888,
              "#fdca26"
             ],
             [
              1,
              "#f0f921"
             ]
            ],
            "type": "heatmap"
           }
          ],
          "heatmapgl": [
           {
            "colorbar": {
             "outlinewidth": 0,
             "ticks": ""
            },
            "colorscale": [
             [
              0,
              "#0d0887"
             ],
             [
              0.1111111111111111,
              "#46039f"
             ],
             [
              0.2222222222222222,
              "#7201a8"
             ],
             [
              0.3333333333333333,
              "#9c179e"
             ],
             [
              0.4444444444444444,
              "#bd3786"
             ],
             [
              0.5555555555555556,
              "#d8576b"
             ],
             [
              0.6666666666666666,
              "#ed7953"
             ],
             [
              0.7777777777777778,
              "#fb9f3a"
             ],
             [
              0.8888888888888888,
              "#fdca26"
             ],
             [
              1,
              "#f0f921"
             ]
            ],
            "type": "heatmapgl"
           }
          ],
          "histogram": [
           {
            "marker": {
             "colorbar": {
              "outlinewidth": 0,
              "ticks": ""
             }
            },
            "type": "histogram"
           }
          ],
          "histogram2d": [
           {
            "colorbar": {
             "outlinewidth": 0,
             "ticks": ""
            },
            "colorscale": [
             [
              0,
              "#0d0887"
             ],
             [
              0.1111111111111111,
              "#46039f"
             ],
             [
              0.2222222222222222,
              "#7201a8"
             ],
             [
              0.3333333333333333,
              "#9c179e"
             ],
             [
              0.4444444444444444,
              "#bd3786"
             ],
             [
              0.5555555555555556,
              "#d8576b"
             ],
             [
              0.6666666666666666,
              "#ed7953"
             ],
             [
              0.7777777777777778,
              "#fb9f3a"
             ],
             [
              0.8888888888888888,
              "#fdca26"
             ],
             [
              1,
              "#f0f921"
             ]
            ],
            "type": "histogram2d"
           }
          ],
          "histogram2dcontour": [
           {
            "colorbar": {
             "outlinewidth": 0,
             "ticks": ""
            },
            "colorscale": [
             [
              0,
              "#0d0887"
             ],
             [
              0.1111111111111111,
              "#46039f"
             ],
             [
              0.2222222222222222,
              "#7201a8"
             ],
             [
              0.3333333333333333,
              "#9c179e"
             ],
             [
              0.4444444444444444,
              "#bd3786"
             ],
             [
              0.5555555555555556,
              "#d8576b"
             ],
             [
              0.6666666666666666,
              "#ed7953"
             ],
             [
              0.7777777777777778,
              "#fb9f3a"
             ],
             [
              0.8888888888888888,
              "#fdca26"
             ],
             [
              1,
              "#f0f921"
             ]
            ],
            "type": "histogram2dcontour"
           }
          ],
          "mesh3d": [
           {
            "colorbar": {
             "outlinewidth": 0,
             "ticks": ""
            },
            "type": "mesh3d"
           }
          ],
          "parcoords": [
           {
            "line": {
             "colorbar": {
              "outlinewidth": 0,
              "ticks": ""
             }
            },
            "type": "parcoords"
           }
          ],
          "pie": [
           {
            "automargin": true,
            "type": "pie"
           }
          ],
          "scatter": [
           {
            "marker": {
             "colorbar": {
              "outlinewidth": 0,
              "ticks": ""
             }
            },
            "type": "scatter"
           }
          ],
          "scatter3d": [
           {
            "line": {
             "colorbar": {
              "outlinewidth": 0,
              "ticks": ""
             }
            },
            "marker": {
             "colorbar": {
              "outlinewidth": 0,
              "ticks": ""
             }
            },
            "type": "scatter3d"
           }
          ],
          "scattercarpet": [
           {
            "marker": {
             "colorbar": {
              "outlinewidth": 0,
              "ticks": ""
             }
            },
            "type": "scattercarpet"
           }
          ],
          "scattergeo": [
           {
            "marker": {
             "colorbar": {
              "outlinewidth": 0,
              "ticks": ""
             }
            },
            "type": "scattergeo"
           }
          ],
          "scattergl": [
           {
            "marker": {
             "colorbar": {
              "outlinewidth": 0,
              "ticks": ""
             }
            },
            "type": "scattergl"
           }
          ],
          "scattermapbox": [
           {
            "marker": {
             "colorbar": {
              "outlinewidth": 0,
              "ticks": ""
             }
            },
            "type": "scattermapbox"
           }
          ],
          "scatterpolar": [
           {
            "marker": {
             "colorbar": {
              "outlinewidth": 0,
              "ticks": ""
             }
            },
            "type": "scatterpolar"
           }
          ],
          "scatterpolargl": [
           {
            "marker": {
             "colorbar": {
              "outlinewidth": 0,
              "ticks": ""
             }
            },
            "type": "scatterpolargl"
           }
          ],
          "scatterternary": [
           {
            "marker": {
             "colorbar": {
              "outlinewidth": 0,
              "ticks": ""
             }
            },
            "type": "scatterternary"
           }
          ],
          "surface": [
           {
            "colorbar": {
             "outlinewidth": 0,
             "ticks": ""
            },
            "colorscale": [
             [
              0,
              "#0d0887"
             ],
             [
              0.1111111111111111,
              "#46039f"
             ],
             [
              0.2222222222222222,
              "#7201a8"
             ],
             [
              0.3333333333333333,
              "#9c179e"
             ],
             [
              0.4444444444444444,
              "#bd3786"
             ],
             [
              0.5555555555555556,
              "#d8576b"
             ],
             [
              0.6666666666666666,
              "#ed7953"
             ],
             [
              0.7777777777777778,
              "#fb9f3a"
             ],
             [
              0.8888888888888888,
              "#fdca26"
             ],
             [
              1,
              "#f0f921"
             ]
            ],
            "type": "surface"
           }
          ],
          "table": [
           {
            "cells": {
             "fill": {
              "color": "#EBF0F8"
             },
             "line": {
              "color": "white"
             }
            },
            "header": {
             "fill": {
              "color": "#C8D4E3"
             },
             "line": {
              "color": "white"
             }
            },
            "type": "table"
           }
          ]
         },
         "layout": {
          "annotationdefaults": {
           "arrowcolor": "#2a3f5f",
           "arrowhead": 0,
           "arrowwidth": 1
          },
          "autotypenumbers": "strict",
          "coloraxis": {
           "colorbar": {
            "outlinewidth": 0,
            "ticks": ""
           }
          },
          "colorscale": {
           "diverging": [
            [
             0,
             "#8e0152"
            ],
            [
             0.1,
             "#c51b7d"
            ],
            [
             0.2,
             "#de77ae"
            ],
            [
             0.3,
             "#f1b6da"
            ],
            [
             0.4,
             "#fde0ef"
            ],
            [
             0.5,
             "#f7f7f7"
            ],
            [
             0.6,
             "#e6f5d0"
            ],
            [
             0.7,
             "#b8e186"
            ],
            [
             0.8,
             "#7fbc41"
            ],
            [
             0.9,
             "#4d9221"
            ],
            [
             1,
             "#276419"
            ]
           ],
           "sequential": [
            [
             0,
             "#0d0887"
            ],
            [
             0.1111111111111111,
             "#46039f"
            ],
            [
             0.2222222222222222,
             "#7201a8"
            ],
            [
             0.3333333333333333,
             "#9c179e"
            ],
            [
             0.4444444444444444,
             "#bd3786"
            ],
            [
             0.5555555555555556,
             "#d8576b"
            ],
            [
             0.6666666666666666,
             "#ed7953"
            ],
            [
             0.7777777777777778,
             "#fb9f3a"
            ],
            [
             0.8888888888888888,
             "#fdca26"
            ],
            [
             1,
             "#f0f921"
            ]
           ],
           "sequentialminus": [
            [
             0,
             "#0d0887"
            ],
            [
             0.1111111111111111,
             "#46039f"
            ],
            [
             0.2222222222222222,
             "#7201a8"
            ],
            [
             0.3333333333333333,
             "#9c179e"
            ],
            [
             0.4444444444444444,
             "#bd3786"
            ],
            [
             0.5555555555555556,
             "#d8576b"
            ],
            [
             0.6666666666666666,
             "#ed7953"
            ],
            [
             0.7777777777777778,
             "#fb9f3a"
            ],
            [
             0.8888888888888888,
             "#fdca26"
            ],
            [
             1,
             "#f0f921"
            ]
           ]
          },
          "colorway": [
           "#636efa",
           "#EF553B",
           "#00cc96",
           "#ab63fa",
           "#FFA15A",
           "#19d3f3",
           "#FF6692",
           "#B6E880",
           "#FF97FF",
           "#FECB52"
          ],
          "font": {
           "color": "#2a3f5f"
          },
          "geo": {
           "bgcolor": "white",
           "lakecolor": "white",
           "landcolor": "#E5ECF6",
           "showlakes": true,
           "showland": true,
           "subunitcolor": "white"
          },
          "hoverlabel": {
           "align": "left"
          },
          "hovermode": "closest",
          "mapbox": {
           "style": "light"
          },
          "paper_bgcolor": "white",
          "plot_bgcolor": "#E5ECF6",
          "polar": {
           "angularaxis": {
            "gridcolor": "white",
            "linecolor": "white",
            "ticks": ""
           },
           "bgcolor": "#E5ECF6",
           "radialaxis": {
            "gridcolor": "white",
            "linecolor": "white",
            "ticks": ""
           }
          },
          "scene": {
           "xaxis": {
            "backgroundcolor": "#E5ECF6",
            "gridcolor": "white",
            "gridwidth": 2,
            "linecolor": "white",
            "showbackground": true,
            "ticks": "",
            "zerolinecolor": "white"
           },
           "yaxis": {
            "backgroundcolor": "#E5ECF6",
            "gridcolor": "white",
            "gridwidth": 2,
            "linecolor": "white",
            "showbackground": true,
            "ticks": "",
            "zerolinecolor": "white"
           },
           "zaxis": {
            "backgroundcolor": "#E5ECF6",
            "gridcolor": "white",
            "gridwidth": 2,
            "linecolor": "white",
            "showbackground": true,
            "ticks": "",
            "zerolinecolor": "white"
           }
          },
          "shapedefaults": {
           "line": {
            "color": "#2a3f5f"
           }
          },
          "ternary": {
           "aaxis": {
            "gridcolor": "white",
            "linecolor": "white",
            "ticks": ""
           },
           "baxis": {
            "gridcolor": "white",
            "linecolor": "white",
            "ticks": ""
           },
           "bgcolor": "#E5ECF6",
           "caxis": {
            "gridcolor": "white",
            "linecolor": "white",
            "ticks": ""
           }
          },
          "title": {
           "x": 0.05
          },
          "xaxis": {
           "automargin": true,
           "gridcolor": "white",
           "linecolor": "white",
           "ticks": "",
           "title": {
            "standoff": 15
           },
           "zerolinecolor": "white",
           "zerolinewidth": 2
          },
          "yaxis": {
           "automargin": true,
           "gridcolor": "white",
           "linecolor": "white",
           "ticks": "",
           "title": {
            "standoff": 15
           },
           "zerolinecolor": "white",
           "zerolinewidth": 2
          }
         }
        },
        "title": {
         "text": "Profit Per Succesful cycle with interest=0.7000000000000001%"
        },
        "xaxis": {
         "title": {
          "text": "Succesfull Cycle"
         }
        },
        "yaxis": {
         "title": {
          "text": "Profit [%]"
         }
        }
       }
      },
      "text/html": [
       "<div>                            <div id=\"e75aa21b-8106-458e-b189-52e7e7c4444b\" class=\"plotly-graph-div\" style=\"height:525px; width:100%;\"></div>            <script type=\"text/javascript\">                require([\"plotly\"], function(Plotly) {                    window.PLOTLYENV=window.PLOTLYENV || {};                                    if (document.getElementById(\"e75aa21b-8106-458e-b189-52e7e7c4444b\")) {                    Plotly.newPlot(                        \"e75aa21b-8106-458e-b189-52e7e7c4444b\",                        [{\"mode\": \"lines\", \"name\": \"Bitstamp: Excluding Profit\", \"type\": \"scatter\", \"x\": [0, 1, 2, 3, 4, 5, 6, 7, 8, 9, 10, 11, 12, 13, 14, 15, 16, 17, 18, 19, 20, 21, 22, 23, 24, 25, 26, 27, 28, 29, 30, 31, 32, 33, 34, 35, 36, 37, 38, 39, 40, 41, 42, 43, 44, 45, 46, 47, 48, 49], \"y\": [-0.0, -0.3044825000000029, -0.6089650000000058, -0.9134475000000086, -1.2179300000000115, -1.5224125000000144, -1.8268950000000173, -2.13137750000002, -2.435860000000023, -2.740342500000026, -3.0448250000000288, -3.3493075000000316, -3.6537900000000345, -3.9582725000000374, -4.26275500000004, -4.567237500000044, -4.871720000000046, -5.1762025000000484, -5.480685000000052, -5.785167500000055, -6.0896500000000575, -6.39413250000006, -6.698615000000063, -7.003097500000067, -7.307580000000069, -7.6120625000000715, -7.916545000000075, -8.221027500000078, -8.52551000000008, -8.829992500000083, -9.134475000000087, -9.43895750000009, -9.743440000000092, -10.047922500000094, -10.352405000000097, -10.656887500000101, -10.961370000000104, -11.265852500000106, -11.57033500000011, -11.874817500000113, -12.179300000000115, -12.483782500000117, -12.78826500000012, -13.092747500000124, -13.397230000000127, -13.701712500000129, -14.006195000000133, -14.310677500000136, -14.615160000000138, -14.91964250000014]}, {\"mode\": \"lines\", \"name\": \"Bitstamp: Including Profit\", \"type\": \"scatter\", \"x\": [0, 1, 2, 3, 4, 5, 6, 7, 8, 9, 10, 11, 12, 13, 14, 15, 16, 17, 18, 19, 20, 21, 22, 23, 24, 25, 26, 27, 28, 29, 30, 31, 32, 33, 34, 35, 36, 37, 38, 39, 40, 41, 42, 43, 44, 45, 46, 47, 48, 49], \"y\": [0.0, -0.3044825000000029, -0.6080379040719452, -0.910669035060685, -1.2123787072159997, -1.5131697262188104, -1.8130448892071716, -2.112006984802395, -2.410058793134906, -2.7072030858701024, -3.003442626234165, -3.29878016903975, -3.593218460711556, -3.886760239311915, -4.179408234566262, -4.471165167888447, -4.762033752406136, -5.052016692985973, -5.341116686258751, -5.629336420644515, -5.916678576377532, -6.203145825531209, -6.4887408320429945, -6.773466251739069, -7.057324732359116, -7.340318913580912, -7.622451427044874, -7.903724896378527, -8.184141937220913, -8.463705157246915, -8.742417156191507, -9.020280525873902, -9.29729785022172, -9.573471705294923, -9.84880465930984, -10.123299272663067, -10.396958097955178, -10.669783680014577, -10.941778555921077, -11.212945255029549, -11.483286298993411, -11.75280420178808, -12.021501469734375, -12.289380601521794, -12.556444088231766, -12.822694413360814, -13.088134052843658, -13.352765475076211, -13.61659114093856, -13.879613503817856]}, {\"mode\": \"lines\", \"name\": \"Kraken 26: Excluding Profit\", \"type\": \"scatter\", \"x\": [0, 1, 2, 3, 4, 5, 6, 7, 8, 9, 10, 11, 12, 13, 14, 15, 16, 17, 18, 19, 20, 21, 22, 23, 24, 25, 26, 27, 28, 29, 30, 31, 32, 33, 34, 35, 36, 37, 38, 39, 40, 41, 42, 43, 44, 45, 46, 47, 48, 49], \"y\": [0.0, 0.17704073199997783, 0.35408146399995566, 0.5311221959999335, 0.7081629279999113, 0.8852036599998891, 1.062244391999867, 1.2392851239998448, 1.4163258559998226, 1.5933665879998005, 1.7704073199997783, 1.9474480519997561, 2.124488783999734, 2.301529515999712, 2.4785702479996896, 2.6556109799996674, 2.8326517119996453, 3.009692443999623, 3.186733175999601, 3.3637739079995788, 3.5408146399995566, 3.7178553719995344, 3.8948961039995122, 4.07193683599949, 4.248977567999468, 4.426018299999446, 4.603059031999424, 4.780099763999401, 4.957140495999379, 5.134181227999357, 5.311221959999335, 5.488262691999313, 5.6653034239992905, 5.842344155999268, 6.019384887999246, 6.196425619999224, 6.373466351999202, 6.55050708399918, 6.7275478159991575, 6.904588547999135, 7.081629279999113, 7.258670011999091, 7.435710743999069, 7.612751475999047, 7.7897922079990245, 7.966832939999002, 8.14387367199898, 8.320914403998959, 8.497955135998936, 8.674995867998913]}, {\"mode\": \"lines\", \"name\": \"Kraken 26: Including Profit\", \"type\": \"scatter\", \"x\": [0, 1, 2, 3, 4, 5, 6, 7, 8, 9, 10, 11, 12, 13, 14, 15, 16, 17, 18, 19, 20, 21, 22, 23, 24, 25, 26, 27, 28, 29, 30, 31, 32, 33, 34, 35, 36, 37, 38, 39, 40, 41, 42, 43, 44, 45, 46, 47, 48, 49], \"y\": [0.0, 0.17704073199997783, 0.35439489820783265, 0.5320630535297521, 0.7100457538544047, 0.8883435560545383, 1.0669570179888455, 1.2458866985035844, 1.4251331574344883, 1.6046969556083646, 1.7845786548449372, 1.9647788179585568, 2.1452980087600437, 2.3261367920583087, 2.5072957336622625, 2.688775400382526, 2.8705763600331613, 3.0526991814335602, 3.235144434410109, 3.4179126897980305, 3.6010045194431406, 3.7844204962036887, 3.9681611939521133, 4.152227187576796, 4.33661905298397, 4.521337367099387, 4.706382707870271, 4.891755654266983, 5.0774567862849285, 5.263486684946317, 5.449845932302044, 5.636535111433449, 5.8235548064541565, 6.010905602511896, 6.198588085790391, 6.386602843511113, 6.57495046393517, 6.7636315363651445, 6.9526466511468765, 7.141996399671413, 7.331681374376786, 7.521702168749855, 7.712059377328262, 7.902753595702117, 8.093785420516086, 8.285155449471059, 8.476864281326124, 8.668912515900406, 8.861300754074964, 9.054029597794667]}, {\"mode\": \"lines\", \"name\": \"Kraken 16: Excluding Profit\", \"type\": \"scatter\", \"x\": [0, 1, 2, 3, 4, 5, 6, 7, 8, 9, 10, 11, 12, 13, 14, 15, 16, 17, 18, 19, 20, 21, 22, 23, 24, 25, 26, 27, 28, 29, 30, 31, 32, 33, 34, 35, 36, 37, 38, 39, 40, 41, 42, 43, 44, 45, 46, 47, 48, 49], \"y\": [0.0, 0.3780177919999739, 0.7560355839999477, 1.1340533759999216, 1.5120711679998955, 1.8900889599998694, 2.2681067519998432, 2.646124543999817, 3.024142335999791, 3.402160127999765, 3.7801779199997387, 4.158195711999713, 4.5362135039996865, 4.91423129599966, 5.292249087999634, 5.670266879999608, 6.048284671999582, 6.426302463999556, 6.80432025599953, 7.182338047999504, 7.5603558399994775, 7.938373631999451, 8.316391423999425, 8.6944092159994, 9.072427007999373, 9.450444799999346, 9.82846259199932, 10.206480383999295, 10.584498175999268, 10.962515967999241, 11.340533759999216, 11.718551551999191, 12.096569343999164, 12.474587135999137, 12.852604927999112, 13.230622719999086, 13.60864051199906, 13.986658303999032, 14.364676095999007, 14.742693887998982, 15.120711679998955, 15.498729471998928, 15.876747263998903, 16.254765055998877, 16.63278284799885, 17.010800639998823, 17.3888184319988, 17.766836223998773, 18.144854015998746, 18.52287180799872]}, {\"mode\": \"lines\", \"name\": \"Kraken 16: Including Profit\", \"type\": \"scatter\", \"x\": [0, 1, 2, 3, 4, 5, 6, 7, 8, 9, 10, 11, 12, 13, 14, 15, 16, 17, 18, 19, 20, 21, 22, 23, 24, 25, 26, 27, 28, 29, 30, 31, 32, 33, 34, 35, 36, 37, 38, 39, 40, 41, 42, 43, 44, 45, 46, 47, 48, 49], \"y\": [0.0, 0.3780177919999739, 0.7574645585106232, 1.138345701309862, 1.5206666425952697, 1.904432825061253, 2.289649711976649, 2.676322787262375, 3.064457555569544, 3.454059542357868, 3.8451342939742172, 4.237687377731714, 4.631724381988844, 5.027250916229131, 5.4242726111409345, 5.82279511869761, 6.222824112237957, 6.624365286547063, 7.027424357937262, 7.432007064329582, 7.838119165335411, 8.245766442338498, 8.654954698577288, 9.065689759227414, 9.477977471484799, 9.891823704648717, 10.307234350205551, 10.724215321912434, 11.142772555881608, 11.562912010664906, 11.984639667338492, 12.407961529588096, 12.832883623794423, 13.259411999118997, 13.687552727590212, 14.117311904189854, 14.548695646939812, 14.981710096989143, 15.416361418701596, 15.852655799743264, 16.290599451170795, 16.730198607519654, 17.171459526892964, 17.614388491050683, 18.058991805498813, 18.50527579957939, 18.953246826560456, 19.402911263726487, 19.85427551246932, 20.307345998379112]}],                        {\"template\": {\"data\": {\"bar\": [{\"error_x\": {\"color\": \"#2a3f5f\"}, \"error_y\": {\"color\": \"#2a3f5f\"}, \"marker\": {\"line\": {\"color\": \"#E5ECF6\", \"width\": 0.5}}, \"type\": \"bar\"}], \"barpolar\": [{\"marker\": {\"line\": {\"color\": \"#E5ECF6\", \"width\": 0.5}}, \"type\": \"barpolar\"}], \"carpet\": [{\"aaxis\": {\"endlinecolor\": \"#2a3f5f\", \"gridcolor\": \"white\", \"linecolor\": \"white\", \"minorgridcolor\": \"white\", \"startlinecolor\": \"#2a3f5f\"}, \"baxis\": {\"endlinecolor\": \"#2a3f5f\", \"gridcolor\": \"white\", \"linecolor\": \"white\", \"minorgridcolor\": \"white\", \"startlinecolor\": \"#2a3f5f\"}, \"type\": \"carpet\"}], \"choropleth\": [{\"colorbar\": {\"outlinewidth\": 0, \"ticks\": \"\"}, \"type\": \"choropleth\"}], \"contour\": [{\"colorbar\": {\"outlinewidth\": 0, \"ticks\": \"\"}, \"colorscale\": [[0.0, \"#0d0887\"], [0.1111111111111111, \"#46039f\"], [0.2222222222222222, \"#7201a8\"], [0.3333333333333333, \"#9c179e\"], [0.4444444444444444, \"#bd3786\"], [0.5555555555555556, \"#d8576b\"], [0.6666666666666666, \"#ed7953\"], [0.7777777777777778, \"#fb9f3a\"], [0.8888888888888888, \"#fdca26\"], [1.0, \"#f0f921\"]], \"type\": \"contour\"}], \"contourcarpet\": [{\"colorbar\": {\"outlinewidth\": 0, \"ticks\": \"\"}, \"type\": \"contourcarpet\"}], \"heatmap\": [{\"colorbar\": {\"outlinewidth\": 0, \"ticks\": \"\"}, \"colorscale\": [[0.0, \"#0d0887\"], [0.1111111111111111, \"#46039f\"], [0.2222222222222222, \"#7201a8\"], [0.3333333333333333, \"#9c179e\"], [0.4444444444444444, \"#bd3786\"], [0.5555555555555556, \"#d8576b\"], [0.6666666666666666, \"#ed7953\"], [0.7777777777777778, \"#fb9f3a\"], [0.8888888888888888, \"#fdca26\"], [1.0, \"#f0f921\"]], \"type\": \"heatmap\"}], \"heatmapgl\": [{\"colorbar\": {\"outlinewidth\": 0, \"ticks\": \"\"}, \"colorscale\": [[0.0, \"#0d0887\"], [0.1111111111111111, \"#46039f\"], [0.2222222222222222, \"#7201a8\"], [0.3333333333333333, \"#9c179e\"], [0.4444444444444444, \"#bd3786\"], [0.5555555555555556, \"#d8576b\"], [0.6666666666666666, \"#ed7953\"], [0.7777777777777778, \"#fb9f3a\"], [0.8888888888888888, \"#fdca26\"], [1.0, \"#f0f921\"]], \"type\": \"heatmapgl\"}], \"histogram\": [{\"marker\": {\"colorbar\": {\"outlinewidth\": 0, \"ticks\": \"\"}}, \"type\": \"histogram\"}], \"histogram2d\": [{\"colorbar\": {\"outlinewidth\": 0, \"ticks\": \"\"}, \"colorscale\": [[0.0, \"#0d0887\"], [0.1111111111111111, \"#46039f\"], [0.2222222222222222, \"#7201a8\"], [0.3333333333333333, \"#9c179e\"], [0.4444444444444444, \"#bd3786\"], [0.5555555555555556, \"#d8576b\"], [0.6666666666666666, \"#ed7953\"], [0.7777777777777778, \"#fb9f3a\"], [0.8888888888888888, \"#fdca26\"], [1.0, \"#f0f921\"]], \"type\": \"histogram2d\"}], \"histogram2dcontour\": [{\"colorbar\": {\"outlinewidth\": 0, \"ticks\": \"\"}, \"colorscale\": [[0.0, \"#0d0887\"], [0.1111111111111111, \"#46039f\"], [0.2222222222222222, \"#7201a8\"], [0.3333333333333333, \"#9c179e\"], [0.4444444444444444, \"#bd3786\"], [0.5555555555555556, \"#d8576b\"], [0.6666666666666666, \"#ed7953\"], [0.7777777777777778, \"#fb9f3a\"], [0.8888888888888888, \"#fdca26\"], [1.0, \"#f0f921\"]], \"type\": \"histogram2dcontour\"}], \"mesh3d\": [{\"colorbar\": {\"outlinewidth\": 0, \"ticks\": \"\"}, \"type\": \"mesh3d\"}], \"parcoords\": [{\"line\": {\"colorbar\": {\"outlinewidth\": 0, \"ticks\": \"\"}}, \"type\": \"parcoords\"}], \"pie\": [{\"automargin\": true, \"type\": \"pie\"}], \"scatter\": [{\"marker\": {\"colorbar\": {\"outlinewidth\": 0, \"ticks\": \"\"}}, \"type\": \"scatter\"}], \"scatter3d\": [{\"line\": {\"colorbar\": {\"outlinewidth\": 0, \"ticks\": \"\"}}, \"marker\": {\"colorbar\": {\"outlinewidth\": 0, \"ticks\": \"\"}}, \"type\": \"scatter3d\"}], \"scattercarpet\": [{\"marker\": {\"colorbar\": {\"outlinewidth\": 0, \"ticks\": \"\"}}, \"type\": \"scattercarpet\"}], \"scattergeo\": [{\"marker\": {\"colorbar\": {\"outlinewidth\": 0, \"ticks\": \"\"}}, \"type\": \"scattergeo\"}], \"scattergl\": [{\"marker\": {\"colorbar\": {\"outlinewidth\": 0, \"ticks\": \"\"}}, \"type\": \"scattergl\"}], \"scattermapbox\": [{\"marker\": {\"colorbar\": {\"outlinewidth\": 0, \"ticks\": \"\"}}, \"type\": \"scattermapbox\"}], \"scatterpolar\": [{\"marker\": {\"colorbar\": {\"outlinewidth\": 0, \"ticks\": \"\"}}, \"type\": \"scatterpolar\"}], \"scatterpolargl\": [{\"marker\": {\"colorbar\": {\"outlinewidth\": 0, \"ticks\": \"\"}}, \"type\": \"scatterpolargl\"}], \"scatterternary\": [{\"marker\": {\"colorbar\": {\"outlinewidth\": 0, \"ticks\": \"\"}}, \"type\": \"scatterternary\"}], \"surface\": [{\"colorbar\": {\"outlinewidth\": 0, \"ticks\": \"\"}, \"colorscale\": [[0.0, \"#0d0887\"], [0.1111111111111111, \"#46039f\"], [0.2222222222222222, \"#7201a8\"], [0.3333333333333333, \"#9c179e\"], [0.4444444444444444, \"#bd3786\"], [0.5555555555555556, \"#d8576b\"], [0.6666666666666666, \"#ed7953\"], [0.7777777777777778, \"#fb9f3a\"], [0.8888888888888888, \"#fdca26\"], [1.0, \"#f0f921\"]], \"type\": \"surface\"}], \"table\": [{\"cells\": {\"fill\": {\"color\": \"#EBF0F8\"}, \"line\": {\"color\": \"white\"}}, \"header\": {\"fill\": {\"color\": \"#C8D4E3\"}, \"line\": {\"color\": \"white\"}}, \"type\": \"table\"}]}, \"layout\": {\"annotationdefaults\": {\"arrowcolor\": \"#2a3f5f\", \"arrowhead\": 0, \"arrowwidth\": 1}, \"autotypenumbers\": \"strict\", \"coloraxis\": {\"colorbar\": {\"outlinewidth\": 0, \"ticks\": \"\"}}, \"colorscale\": {\"diverging\": [[0, \"#8e0152\"], [0.1, \"#c51b7d\"], [0.2, \"#de77ae\"], [0.3, \"#f1b6da\"], [0.4, \"#fde0ef\"], [0.5, \"#f7f7f7\"], [0.6, \"#e6f5d0\"], [0.7, \"#b8e186\"], [0.8, \"#7fbc41\"], [0.9, \"#4d9221\"], [1, \"#276419\"]], \"sequential\": [[0.0, \"#0d0887\"], [0.1111111111111111, \"#46039f\"], [0.2222222222222222, \"#7201a8\"], [0.3333333333333333, \"#9c179e\"], [0.4444444444444444, \"#bd3786\"], [0.5555555555555556, \"#d8576b\"], [0.6666666666666666, \"#ed7953\"], [0.7777777777777778, \"#fb9f3a\"], [0.8888888888888888, \"#fdca26\"], [1.0, \"#f0f921\"]], \"sequentialminus\": [[0.0, \"#0d0887\"], [0.1111111111111111, \"#46039f\"], [0.2222222222222222, \"#7201a8\"], [0.3333333333333333, \"#9c179e\"], [0.4444444444444444, \"#bd3786\"], [0.5555555555555556, \"#d8576b\"], [0.6666666666666666, \"#ed7953\"], [0.7777777777777778, \"#fb9f3a\"], [0.8888888888888888, \"#fdca26\"], [1.0, \"#f0f921\"]]}, \"colorway\": [\"#636efa\", \"#EF553B\", \"#00cc96\", \"#ab63fa\", \"#FFA15A\", \"#19d3f3\", \"#FF6692\", \"#B6E880\", \"#FF97FF\", \"#FECB52\"], \"font\": {\"color\": \"#2a3f5f\"}, \"geo\": {\"bgcolor\": \"white\", \"lakecolor\": \"white\", \"landcolor\": \"#E5ECF6\", \"showlakes\": true, \"showland\": true, \"subunitcolor\": \"white\"}, \"hoverlabel\": {\"align\": \"left\"}, \"hovermode\": \"closest\", \"mapbox\": {\"style\": \"light\"}, \"paper_bgcolor\": \"white\", \"plot_bgcolor\": \"#E5ECF6\", \"polar\": {\"angularaxis\": {\"gridcolor\": \"white\", \"linecolor\": \"white\", \"ticks\": \"\"}, \"bgcolor\": \"#E5ECF6\", \"radialaxis\": {\"gridcolor\": \"white\", \"linecolor\": \"white\", \"ticks\": \"\"}}, \"scene\": {\"xaxis\": {\"backgroundcolor\": \"#E5ECF6\", \"gridcolor\": \"white\", \"gridwidth\": 2, \"linecolor\": \"white\", \"showbackground\": true, \"ticks\": \"\", \"zerolinecolor\": \"white\"}, \"yaxis\": {\"backgroundcolor\": \"#E5ECF6\", \"gridcolor\": \"white\", \"gridwidth\": 2, \"linecolor\": \"white\", \"showbackground\": true, \"ticks\": \"\", \"zerolinecolor\": \"white\"}, \"zaxis\": {\"backgroundcolor\": \"#E5ECF6\", \"gridcolor\": \"white\", \"gridwidth\": 2, \"linecolor\": \"white\", \"showbackground\": true, \"ticks\": \"\", \"zerolinecolor\": \"white\"}}, \"shapedefaults\": {\"line\": {\"color\": \"#2a3f5f\"}}, \"ternary\": {\"aaxis\": {\"gridcolor\": \"white\", \"linecolor\": \"white\", \"ticks\": \"\"}, \"baxis\": {\"gridcolor\": \"white\", \"linecolor\": \"white\", \"ticks\": \"\"}, \"bgcolor\": \"#E5ECF6\", \"caxis\": {\"gridcolor\": \"white\", \"linecolor\": \"white\", \"ticks\": \"\"}}, \"title\": {\"x\": 0.05}, \"xaxis\": {\"automargin\": true, \"gridcolor\": \"white\", \"linecolor\": \"white\", \"ticks\": \"\", \"title\": {\"standoff\": 15}, \"zerolinecolor\": \"white\", \"zerolinewidth\": 2}, \"yaxis\": {\"automargin\": true, \"gridcolor\": \"white\", \"linecolor\": \"white\", \"ticks\": \"\", \"title\": {\"standoff\": 15}, \"zerolinecolor\": \"white\", \"zerolinewidth\": 2}}}, \"title\": {\"text\": \"Profit Per Succesful cycle with interest=0.7000000000000001%\"}, \"xaxis\": {\"title\": {\"text\": \"Succesfull Cycle\"}}, \"yaxis\": {\"title\": {\"text\": \"Profit [%]\"}}},                        {\"responsive\": true}                    ).then(function(){\n",
       "                            \n",
       "var gd = document.getElementById('e75aa21b-8106-458e-b189-52e7e7c4444b');\n",
       "var x = new MutationObserver(function (mutations, observer) {{\n",
       "        var display = window.getComputedStyle(gd).display;\n",
       "        if (!display || display === 'none') {{\n",
       "            console.log([gd, 'removed!']);\n",
       "            Plotly.purge(gd);\n",
       "            observer.disconnect();\n",
       "        }}\n",
       "}});\n",
       "\n",
       "// Listen for the removal of the full notebook cells\n",
       "var notebookContainer = gd.closest('#notebook-container');\n",
       "if (notebookContainer) {{\n",
       "    x.observe(notebookContainer, {childList: true});\n",
       "}}\n",
       "\n",
       "// Listen for the clearing of the current output cell\n",
       "var outputEl = gd.closest('.output');\n",
       "if (outputEl) {{\n",
       "    x.observe(outputEl, {childList: true});\n",
       "}}\n",
       "\n",
       "                        })                };                });            </script>        </div>"
      ]
     },
     "metadata": {},
     "output_type": "display_data"
    }
   ],
   "source": [
    "# Edit the layout\n",
    "fig = go.Figure()\n",
    "fig.add_trace(go.Scatter(x=succesful_cycles, y=bit_stamp_profit_reinvesting_excluding_profit,\n",
    "                    mode='lines',\n",
    "                    name='Bitstamp: Excluding Profit'))\n",
    "fig.add_trace(go.Scatter(x=succesful_cycles, y=bit_stamp_profit_reinvesting_including_profit,\n",
    "                    mode='lines',\n",
    "                    name='Bitstamp: Including Profit'))\n",
    "fig.add_trace(go.Scatter(x=succesful_cycles, y=kraken_profit_reinvesting_excluding_profit_26,\n",
    "                    mode='lines',\n",
    "                    name='Kraken 26: Excluding Profit'))\n",
    "fig.add_trace(go.Scatter(x=succesful_cycles, y=kraken_profit_reinvesting_including_profit_26,\n",
    "                    mode='lines',\n",
    "                    name='Kraken 26: Including Profit'))\n",
    "fig.add_trace(go.Scatter(x=succesful_cycles, y=kraken_profit_reinvesting_excluding_profit_16,\n",
    "                    mode='lines',\n",
    "                    name='Kraken 16: Excluding Profit'))\n",
    "fig.add_trace(go.Scatter(x=succesful_cycles, y=kraken_profit_reinvesting_including_profit_16,\n",
    "                    mode='lines',\n",
    "                    name='Kraken 16: Including Profit'))\n",
    "fig.update_layout(title=f'Profit Per Succesful cycle with interest={interest*100}%',\n",
    "                   xaxis_title='Succesfull Cycle',\n",
    "                   yaxis_title='Profit [%]')\n",
    "fig.show()"
   ]
  },
  {
   "cell_type": "markdown",
   "metadata": {},
   "source": [
    "## Conclusion \n",
    "Kraken is alot cheaper and more profitable. Also note that kraken has maker fees which are 0.16% instead of 26\\% as takers fees which can be taken into consideration in the strategy. "
   ]
  },
  {
   "cell_type": "markdown",
   "metadata": {},
   "source": [
    "## Algorithmic Implementation"
   ]
  },
  {
   "cell_type": "markdown",
   "metadata": {},
   "source": [
    "<ol>\n",
    "  <li>Buy in at previous day low price (assuming there is not bull/bear run)</li>\n",
    "  <li>Check ask prices on a t sec interval</li>\n",
    "  <li>If ask price is the required percent increase then sell</li>\n",
    "  <li>Check ask prices on a t sec interval</li>\n",
    "  <li>If ask price is = original buy price then buy </li>\n",
    "  <li>Continue and repeat</li>\n",
    "</ol>\n"
   ]
  }
 ],
 "metadata": {
  "kernelspec": {
   "display_name": "Python 3",
   "language": "python",
   "name": "python3"
  },
  "language_info": {
   "codemirror_mode": {
    "name": "ipython",
    "version": 3
   },
   "file_extension": ".py",
   "mimetype": "text/x-python",
   "name": "python",
   "nbconvert_exporter": "python",
   "pygments_lexer": "ipython3",
   "version": "3.6.9"
  }
 },
 "nbformat": 4,
 "nbformat_minor": 2
}
