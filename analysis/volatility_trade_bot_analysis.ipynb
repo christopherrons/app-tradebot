{
 "cells": [
  {
   "cell_type": "markdown",
   "metadata": {},
   "source": [
    "# Trade Bot Analysis"
   ]
  },
  {
   "cell_type": "markdown",
   "metadata": {},
   "source": [
    "## Background \n",
    "\n",
    "Ripple's XRP is a top 5 market cap cryptocurrency traded on multiple markets. The price of XRP is highly volatile and commonly fluctuates multiple percent per day with the occasional bull/bear runs. \n",
    "\n",
    "One of the more popular exchanges for trading XRP is Bitstamp. Bitstamp has a open [api](https://www.bitstamp.net/api/) which allows the user to extract real time market data and information connected to the users account. This allows the user create trades through the api, giving the possibilty to set up trading automation in form of a bot which implements a trading strategy.  "
   ]
  },
  {
   "cell_type": "markdown",
   "metadata": {},
   "source": [
    "# Trading Strategy\n",
    "\n",
    "Using the daily fluctuation in price a naive strategy could be:\n",
    "\n",
    "<ol>\n",
    "  <li>Buy at a price X</li>\n",
    "  <li>Sell at price Y, where price why is a big enough increase in price to gain some profit while covering fee</li>\n",
    "  <li>Repeat the process when price is X using the intial value or inluding profits to purchase</li>\n",
    "</ol>\n",
    "\n",
    "### Strategy Drawbacks\n",
    "\n",
    "* The price might not go up enough to sell\n",
    "* The price might not go down again after selling."
   ]
  },
  {
   "cell_type": "markdown",
   "metadata": {},
   "source": [
    "## Mathematical  Formulation and Analysis"
   ]
  },
  {
   "cell_type": "markdown",
   "metadata": {},
   "source": [
    "#### Nomenclature\n",
    "$P$: Profit  [£] <br>\n",
    "$V_0$: Value of initial investment [£]<br>\n",
    "$i$: Interest [%] <br>\n",
    "$f_b$: Buy Fee  [%] <br>\n",
    "$f_s$: Sell Fee  [%] <br>\n",
    "$n$: Number of succesful cycles <br>\n",
    "$c$: Increased value [%] <br>\n",
    "\n",
    "#### Formula for Profit Excluding Reinvestint Profits\n",
    "The profit per succesful cycle when reinvesting **excluding** profits is given by,\n",
    "\n",
    "$$P = V_0(1+i)(1-f_b)(1-f_s) - V_0 = V_0((1+i)(1-f_b)(1-f_s) - 1)$$\n",
    "$$c = (1+i)(1-f_b)(1-f_s) $$\n",
    "$$P = V_0(c-1)$$\n",
    "\n",
    "The potential total proft is given by,\n",
    "\n",
    "$$ P_{tot} = \\sum_{i=0}^n P_i = nP$$\n",
    "\n",
    "#### Formula for Profit Including Reinvestint Profits\n",
    "The profit per succesful cycle when reinvesting **including** profits is given by,\n",
    "\n",
    "$$V_0 = V_0$$\n",
    "$$V_1 = V_0c$$\n",
    "$$V_2 = V_1c=V_0c²$$\n",
    "$$V_3 = V_2c=V_0c³$$\n",
    "$$\\vdots$$\n",
    "$$V_n = V_0c^n$$.\n",
    "$$P_n = V_n - V_0 =  V_0c^n - V_0 = V_0 (c^n - 1)$$\n",
    "\n",
    "#### Required Interest Rate\n",
    "The minimum interest required to break even $P=0$ even is, \n",
    "\n",
    "$$c = (1+i)(1-f_b)(1-f_s)  = 1  \\rightarrow i = \\frac{1}{(1-f_b)(1-f_s) } - 1$$\n",
    "\n",
    "On bitstamp $f_b = f_s = 0.5\\%$ which gives\n",
    "\n",
    "$$P(0.005, 0.005) = 0 \\rightarrow  i = 0.0100755031 \\rightarrow 1.00755031\\% $$\n",
    "\n",
    "as the break even interest rate. \n",
    "\n",
    "On Kraken $f_b = 0.26\\%$ and $f_s = 0.26\\%$ with taker fees which gives,\n",
    "\n",
    "$$P(0.0026, 0.0026) = 0 \\rightarrow  i =  0.0052203505 \\rightarrow 0.52203505\\% $$.\n",
    "\n",
    "With maker fees $f_b = 0.16\\%$ and $f_s = 0.16\\%$,\n",
    "\n",
    "$$P(0.0016, 0.0016) = 0 \\rightarrow  i =  0.0032076964 \\rightarrow 0.32076964  \\% $$\n",
    "\n",
    "The change in profit based on changes in interest can be described by the derivative,\n",
    "\n",
    "$$\\frac{dP}{di} = V_0(1-f_b)(1-f_s)$$\n",
    "\n",
    "the increase in profit based on changes in interest is constant. "
   ]
  },
  {
   "cell_type": "markdown",
   "metadata": {},
   "source": [
    "### Visualisation"
   ]
  },
  {
   "cell_type": "code",
   "execution_count": 11,
   "metadata": {},
   "outputs": [],
   "source": [
    "import matplotlib.pyplot as plt\n",
    "import numpy as np\n",
    "import plotly.graph_objects as go\n",
    "\n",
    "# Constants\n",
    "initial_value = 1000\n",
    "interest = 0.015\n",
    "succesful_cycles = np.arange(50)"
   ]
  },
  {
   "cell_type": "code",
   "execution_count": 12,
   "metadata": {},
   "outputs": [],
   "source": [
    "# Bitstamp 0.5% fees\n",
    "fee_buy = 0.005\n",
    "fee_sell = 0.005\n",
    "value_increase = (1 + interest) * (1- fee_sell) * (1 - fee_buy)\n",
    "bit_stamp_profit_reinvesting_excluding_profit = [n * (value_increase - 1) * 100 for n in succesful_cycles]\n",
    "bit_stamp_profit_reinvesting_including_profit = [(value_increase**n - 1) * 100 for n in succesful_cycles]"
   ]
  },
  {
   "cell_type": "code",
   "execution_count": 13,
   "metadata": {},
   "outputs": [],
   "source": [
    "# Kraken 0.26% fees\n",
    "fee_buy = 0.0026\n",
    "fee_sell = 0.0026\n",
    "value_increase = (1 + interest) * (1- fee_sell) * (1 - fee_buy)\n",
    "\n",
    "kraken_profit_reinvesting_excluding_profit_26 = [n * (value_increase - 1) * 100 for n in succesful_cycles]\n",
    "kraken_profit_reinvesting_including_profit_26 = [(value_increase**n - 1) * 100 for n in succesful_cycles]\n"
   ]
  },
  {
   "cell_type": "code",
   "execution_count": 14,
   "metadata": {},
   "outputs": [],
   "source": [
    "# Kraken 0.16% fees\n",
    "fee_buy = 0.0016\n",
    "fee_sell = 0.0016\n",
    "value_increase = (1 + interest) * (1- fee_sell) * (1 - fee_buy)\n",
    "\n",
    "kraken_profit_reinvesting_excluding_profit_16 = [n * (value_increase - 1) * 100 for n in succesful_cycles]\n",
    "kraken_profit_reinvesting_including_profit_16 = [(value_increase**n - 1) * 100 for n in succesful_cycles]\n"
   ]
  },
  {
   "cell_type": "code",
   "execution_count": 15,
   "metadata": {},
   "outputs": [
    {
     "data": {
      "application/vnd.plotly.v1+json": {
       "config": {
        "plotlyServerURL": "https://plot.ly"
       },
       "data": [
        {
         "mode": "lines",
         "name": "Bitstamp: Excluding Profit",
         "type": "scatter",
         "x": [
          0,
          1,
          2,
          3,
          4,
          5,
          6,
          7,
          8,
          9,
          10,
          11,
          12,
          13,
          14,
          15,
          16,
          17,
          18,
          19,
          20,
          21,
          22,
          23,
          24,
          25,
          26,
          27,
          28,
          29,
          30,
          31,
          32,
          33,
          34,
          35,
          36,
          37,
          38,
          39,
          40,
          41,
          42,
          43,
          44,
          45,
          46,
          47,
          48,
          49
         ],
         "y": [
          0,
          0.4875374999999904,
          0.9750749999999808,
          1.4626124999999712,
          1.9501499999999616,
          2.437687499999952,
          2.9252249999999425,
          3.412762499999933,
          3.9002999999999233,
          4.387837499999914,
          4.875374999999904,
          5.3629124999998945,
          5.850449999999885,
          6.337987499999875,
          6.825524999999866,
          7.313062499999856,
          7.8005999999998465,
          8.288137499999838,
          8.775674999999827,
          9.263212499999817,
          9.750749999999808,
          10.2382874999998,
          10.725824999999789,
          11.213362499999779,
          11.70089999999977,
          12.188437499999761,
          12.67597499999975,
          13.16351249999974,
          13.651049999999731,
          14.138587499999723,
          14.626124999999712,
          15.113662499999702,
          15.601199999999693,
          16.088737499999684,
          16.576274999999676,
          17.063812499999663,
          17.551349999999655,
          18.038887499999646,
          18.526424999999634,
          19.013962499999625,
          19.501499999999616,
          19.989037499999608,
          20.4765749999996,
          20.964112499999587,
          21.451649999999578,
          21.93918749999957,
          22.426724999999557,
          22.91426249999955,
          23.40179999999954,
          23.88933749999953
         ]
        },
        {
         "mode": "lines",
         "name": "Bitstamp: Including Profit",
         "type": "scatter",
         "x": [
          0,
          1,
          2,
          3,
          4,
          5,
          6,
          7,
          8,
          9,
          10,
          11,
          12,
          13,
          14,
          15,
          16,
          17,
          18,
          19,
          20,
          21,
          22,
          23,
          24,
          25,
          26,
          27,
          28,
          29,
          30,
          31,
          32,
          33,
          34,
          35,
          36,
          37,
          38,
          39,
          40,
          41,
          42,
          43,
          44,
          45,
          46,
          47,
          48,
          49
         ],
         "y": [
          0,
          0.4875374999999904,
          0.9774519281390504,
          1.4697548728331844,
          1.9644579789963146,
          2.46157294831566,
          2.961111539528538,
          3.4630855687005635,
          3.9675069095050475,
          4.474387493503973,
          4.983739310430102,
          5.495574408470683,
          6.009904894552376,
          6.526742934627627,
          7.046100753962525,
          7.567990637425881,
          8.092424929779796,
          8.619416035971827,
          9.148976421428179,
          9.681118612348794,
          10.215855196003453,
          10.753198821029674,
          11.293162197731732,
          11.835758098381488,
          12.380999357520373,
          12.928898872263028,
          13.479469602602379,
          14.032724571716159,
          14.588676866274985,
          15.147339636751877,
          15.708726097733393,
          16.272849528232136,
          16.83972327200083,
          17.409360737848047,
          17.981775399955314,
          18.556980798195855,
          19.134990538454865,
          19.71581829295126,
          20.29947780056125,
          20.88598286714316,
          21.475347365864028,
          22.067585237527876,
          22.66271049090527,
          23.260737203064853,
          23.861679519706236,
          24.46555165549462,
          25.07236789439702,
          25.682142590020153,
          26.294890165949948,
          26.910625116092767
         ]
        },
        {
         "mode": "lines",
         "name": "Kraken 26: Excluding Profit",
         "type": "scatter",
         "x": [
          0,
          1,
          2,
          3,
          4,
          5,
          6,
          7,
          8,
          9,
          10,
          11,
          12,
          13,
          14,
          15,
          16,
          17,
          18,
          19,
          20,
          21,
          22,
          23,
          24,
          25,
          26,
          27,
          28,
          29,
          30,
          31,
          32,
          33,
          34,
          35,
          36,
          37,
          38,
          39,
          40,
          41,
          42,
          43,
          44,
          45,
          46,
          47,
          48,
          49
         ],
         "y": [
          0,
          0.9728861399999733,
          1.9457722799999466,
          2.91865841999992,
          3.8915445599998932,
          4.8644306999998665,
          5.83731683999984,
          6.810202979999813,
          7.7830891199997865,
          8.75597525999976,
          9.728861399999733,
          10.701747539999706,
          11.67463367999968,
          12.647519819999653,
          13.620405959999626,
          14.5932920999996,
          15.566178239999573,
          16.539064379999544,
          17.51195051999952,
          18.484836659999495,
          19.457722799999466,
          20.430608939999438,
          21.403495079999413,
          22.376381219999388,
          23.34926735999936,
          24.32215349999933,
          25.295039639999306,
          26.26792577999928,
          27.240811919999253,
          28.213698059999224,
          29.1865841999992,
          30.159470339999174,
          31.132356479999146,
          32.10524261999912,
          33.07812875999909,
          34.05101489999907,
          35.02390103999904,
          35.99678717999901,
          36.96967331999899,
          37.94255945999896,
          38.91544559999893,
          39.888331739998904,
          40.861217879998875,
          41.834104019998854,
          42.806990159998826,
          43.7798762999988,
          44.752762439998776,
          45.72564857999875,
          46.69853471999872,
          47.67142085999869
         ]
        },
        {
         "mode": "lines",
         "name": "Kraken 26: Including Profit",
         "type": "scatter",
         "x": [
          0,
          1,
          2,
          3,
          4,
          5,
          6,
          7,
          8,
          9,
          10,
          11,
          12,
          13,
          14,
          15,
          16,
          17,
          18,
          19,
          20,
          21,
          22,
          23,
          24,
          25,
          26,
          27,
          28,
          29,
          30,
          31,
          32,
          33,
          34,
          35,
          36,
          37,
          38,
          39,
          40,
          41,
          42,
          43,
          44,
          45,
          46,
          47,
          48,
          49
         ],
         "y": [
          0,
          0.9728861399999733,
          1.9552373544139856,
          2.9471457276391666,
          3.9487042399489303,
          4.960006776208958,
          5.981148134677738,
          7.012224035892856,
          8.05333113164377,
          9.104567014031817,
          10.166030224618305,
          11.237820263661803,
          12.320037599445044,
          13.412783677692808,
          14.516160931081235,
          15.630272788839793,
          16.755223686446573,
          17.891119075417983,
          19.038065433193573,
          20.196170273117218,
          21.36554215451514,
          22.54629069287224,
          23.73852657010729,
          24.942361544948042,
          26.157908463407487,
          27.38528126936184,
          28.624595015231446,
          29.875965872765732,
          31.139511143932964,
          32.41534927191601,
          33.70359985221503,
          35.00438364385825,
          36.31782258072174,
          37.64403978295934,
          38.98315956854379,
          40.3353074649202,
          41.70061022077276,
          43.07919581790605,
          44.47119348324187,
          45.87673370093288,
          47.29594822459393,
          48.728970089652535,
          50.17593362581947,
          51.63697446968063,
          53.11222957741146,
          54.60183723761502,
          56.10593708428511,
          57.624670109895185,
          59.15817867861504,
          60.706606539655674
         ]
        },
        {
         "mode": "lines",
         "name": "Kraken 16: Excluding Profit",
         "type": "scatter",
         "x": [
          0,
          1,
          2,
          3,
          4,
          5,
          6,
          7,
          8,
          9,
          10,
          11,
          12,
          13,
          14,
          15,
          16,
          17,
          18,
          19,
          20,
          21,
          22,
          23,
          24,
          25,
          26,
          27,
          28,
          29,
          30,
          31,
          32,
          33,
          34,
          35,
          36,
          37,
          38,
          39,
          40,
          41,
          42,
          43,
          44,
          45,
          46,
          47,
          48,
          49
         ],
         "y": [
          0,
          1.1754598399999816,
          2.350919679999963,
          3.526379519999945,
          4.701839359999926,
          5.877299199999908,
          7.05275903999989,
          8.228218879999872,
          9.403678719999853,
          10.579138559999834,
          11.754598399999816,
          12.930058239999799,
          14.10551807999978,
          15.28097791999976,
          16.456437759999744,
          17.631897599999725,
          18.807357439999706,
          19.982817279999686,
          21.158277119999667,
          22.33373695999965,
          23.509196799999632,
          24.684656639999613,
          25.860116479999597,
          27.035576319999578,
          28.21103615999956,
          29.38649599999954,
          30.56195583999952,
          31.737415679999504,
          32.91287551999949,
          34.08833535999947,
          35.26379519999945,
          36.43925503999943,
          37.61471487999941,
          38.79017471999939,
          39.96563455999937,
          41.14109439999935,
          42.316554239999334,
          43.49201407999932,
          44.6674739199993,
          45.84293375999928,
          47.018393599999264,
          48.193853439999245,
          49.369313279999226,
          50.544773119999206,
          51.720232959999194,
          52.895692799999175,
          54.071152639999156,
          55.246612479999136,
          56.42207231999912,
          57.5975321599991
         ]
        },
        {
         "mode": "lines",
         "name": "Kraken 16: Including Profit",
         "type": "scatter",
         "x": [
          0,
          1,
          2,
          3,
          4,
          5,
          6,
          7,
          8,
          9,
          10,
          11,
          12,
          13,
          14,
          15,
          16,
          17,
          18,
          19,
          20,
          21,
          22,
          23,
          24,
          25,
          26,
          27,
          28,
          29,
          30,
          31,
          32,
          33,
          34,
          35,
          36,
          37,
          38,
          39,
          40,
          41,
          42,
          43,
          44,
          45,
          46,
          47,
          48,
          49
         ],
         "y": [
          0,
          1.1754598399999816,
          2.3647367383544893,
          3.56799310903555,
          4.785393275126215,
          6.017103491261366,
          7.2632919663323525,
          8.524128886458527,
          9.799786438228676,
          11.090438832215789,
          12.396262326768227,
          13.717435252080424,
          15.054138034546604,
          16.406553221400856,
          17.77486550564662,
          19.159261751279487,
          20.559931018806243,
          21.97706459106399,
          23.410855999342782,
          24.86150104981526,
          26.329197850276987,
          27.814146837201115,
          29.31655080311102,
          30.836614924274762,
          32.37454678872504,
          33.9305564246085,
          35.504856328868286,
          37.09766149626379,
          38.70918944873149,
          40.339660265090835,
          41.98929661109938,
          43.65832376986132,
          45.346969672593175,
          47.05546492975146,
          48.78404286252596,
          50.5329395347033,
          52.3023937849052,
          54.09264725920537,
          55.90394444413018,
          57.736532700046794,
          59.590662294944295,
          61.46658643861136,
          63.364561317216086,
          65.2848461282921,
          67.22770311613596,
          69.19339760762054,
          71.1821980484296,
          73.19437603971812,
          75.23020637520355,
          77.28996707869315
         ]
        }
       ],
       "layout": {
        "template": {
         "data": {
          "bar": [
           {
            "error_x": {
             "color": "#2a3f5f"
            },
            "error_y": {
             "color": "#2a3f5f"
            },
            "marker": {
             "line": {
              "color": "#E5ECF6",
              "width": 0.5
             }
            },
            "type": "bar"
           }
          ],
          "barpolar": [
           {
            "marker": {
             "line": {
              "color": "#E5ECF6",
              "width": 0.5
             }
            },
            "type": "barpolar"
           }
          ],
          "carpet": [
           {
            "aaxis": {
             "endlinecolor": "#2a3f5f",
             "gridcolor": "white",
             "linecolor": "white",
             "minorgridcolor": "white",
             "startlinecolor": "#2a3f5f"
            },
            "baxis": {
             "endlinecolor": "#2a3f5f",
             "gridcolor": "white",
             "linecolor": "white",
             "minorgridcolor": "white",
             "startlinecolor": "#2a3f5f"
            },
            "type": "carpet"
           }
          ],
          "choropleth": [
           {
            "colorbar": {
             "outlinewidth": 0,
             "ticks": ""
            },
            "type": "choropleth"
           }
          ],
          "contour": [
           {
            "colorbar": {
             "outlinewidth": 0,
             "ticks": ""
            },
            "colorscale": [
             [
              0,
              "#0d0887"
             ],
             [
              0.1111111111111111,
              "#46039f"
             ],
             [
              0.2222222222222222,
              "#7201a8"
             ],
             [
              0.3333333333333333,
              "#9c179e"
             ],
             [
              0.4444444444444444,
              "#bd3786"
             ],
             [
              0.5555555555555556,
              "#d8576b"
             ],
             [
              0.6666666666666666,
              "#ed7953"
             ],
             [
              0.7777777777777778,
              "#fb9f3a"
             ],
             [
              0.8888888888888888,
              "#fdca26"
             ],
             [
              1,
              "#f0f921"
             ]
            ],
            "type": "contour"
           }
          ],
          "contourcarpet": [
           {
            "colorbar": {
             "outlinewidth": 0,
             "ticks": ""
            },
            "type": "contourcarpet"
           }
          ],
          "heatmap": [
           {
            "colorbar": {
             "outlinewidth": 0,
             "ticks": ""
            },
            "colorscale": [
             [
              0,
              "#0d0887"
             ],
             [
              0.1111111111111111,
              "#46039f"
             ],
             [
              0.2222222222222222,
              "#7201a8"
             ],
             [
              0.3333333333333333,
              "#9c179e"
             ],
             [
              0.4444444444444444,
              "#bd3786"
             ],
             [
              0.5555555555555556,
              "#d8576b"
             ],
             [
              0.6666666666666666,
              "#ed7953"
             ],
             [
              0.7777777777777778,
              "#fb9f3a"
             ],
             [
              0.8888888888888888,
              "#fdca26"
             ],
             [
              1,
              "#f0f921"
             ]
            ],
            "type": "heatmap"
           }
          ],
          "heatmapgl": [
           {
            "colorbar": {
             "outlinewidth": 0,
             "ticks": ""
            },
            "colorscale": [
             [
              0,
              "#0d0887"
             ],
             [
              0.1111111111111111,
              "#46039f"
             ],
             [
              0.2222222222222222,
              "#7201a8"
             ],
             [
              0.3333333333333333,
              "#9c179e"
             ],
             [
              0.4444444444444444,
              "#bd3786"
             ],
             [
              0.5555555555555556,
              "#d8576b"
             ],
             [
              0.6666666666666666,
              "#ed7953"
             ],
             [
              0.7777777777777778,
              "#fb9f3a"
             ],
             [
              0.8888888888888888,
              "#fdca26"
             ],
             [
              1,
              "#f0f921"
             ]
            ],
            "type": "heatmapgl"
           }
          ],
          "histogram": [
           {
            "marker": {
             "colorbar": {
              "outlinewidth": 0,
              "ticks": ""
             }
            },
            "type": "histogram"
           }
          ],
          "histogram2d": [
           {
            "colorbar": {
             "outlinewidth": 0,
             "ticks": ""
            },
            "colorscale": [
             [
              0,
              "#0d0887"
             ],
             [
              0.1111111111111111,
              "#46039f"
             ],
             [
              0.2222222222222222,
              "#7201a8"
             ],
             [
              0.3333333333333333,
              "#9c179e"
             ],
             [
              0.4444444444444444,
              "#bd3786"
             ],
             [
              0.5555555555555556,
              "#d8576b"
             ],
             [
              0.6666666666666666,
              "#ed7953"
             ],
             [
              0.7777777777777778,
              "#fb9f3a"
             ],
             [
              0.8888888888888888,
              "#fdca26"
             ],
             [
              1,
              "#f0f921"
             ]
            ],
            "type": "histogram2d"
           }
          ],
          "histogram2dcontour": [
           {
            "colorbar": {
             "outlinewidth": 0,
             "ticks": ""
            },
            "colorscale": [
             [
              0,
              "#0d0887"
             ],
             [
              0.1111111111111111,
              "#46039f"
             ],
             [
              0.2222222222222222,
              "#7201a8"
             ],
             [
              0.3333333333333333,
              "#9c179e"
             ],
             [
              0.4444444444444444,
              "#bd3786"
             ],
             [
              0.5555555555555556,
              "#d8576b"
             ],
             [
              0.6666666666666666,
              "#ed7953"
             ],
             [
              0.7777777777777778,
              "#fb9f3a"
             ],
             [
              0.8888888888888888,
              "#fdca26"
             ],
             [
              1,
              "#f0f921"
             ]
            ],
            "type": "histogram2dcontour"
           }
          ],
          "mesh3d": [
           {
            "colorbar": {
             "outlinewidth": 0,
             "ticks": ""
            },
            "type": "mesh3d"
           }
          ],
          "parcoords": [
           {
            "line": {
             "colorbar": {
              "outlinewidth": 0,
              "ticks": ""
             }
            },
            "type": "parcoords"
           }
          ],
          "pie": [
           {
            "automargin": true,
            "type": "pie"
           }
          ],
          "scatter": [
           {
            "marker": {
             "colorbar": {
              "outlinewidth": 0,
              "ticks": ""
             }
            },
            "type": "scatter"
           }
          ],
          "scatter3d": [
           {
            "line": {
             "colorbar": {
              "outlinewidth": 0,
              "ticks": ""
             }
            },
            "marker": {
             "colorbar": {
              "outlinewidth": 0,
              "ticks": ""
             }
            },
            "type": "scatter3d"
           }
          ],
          "scattercarpet": [
           {
            "marker": {
             "colorbar": {
              "outlinewidth": 0,
              "ticks": ""
             }
            },
            "type": "scattercarpet"
           }
          ],
          "scattergeo": [
           {
            "marker": {
             "colorbar": {
              "outlinewidth": 0,
              "ticks": ""
             }
            },
            "type": "scattergeo"
           }
          ],
          "scattergl": [
           {
            "marker": {
             "colorbar": {
              "outlinewidth": 0,
              "ticks": ""
             }
            },
            "type": "scattergl"
           }
          ],
          "scattermapbox": [
           {
            "marker": {
             "colorbar": {
              "outlinewidth": 0,
              "ticks": ""
             }
            },
            "type": "scattermapbox"
           }
          ],
          "scatterpolar": [
           {
            "marker": {
             "colorbar": {
              "outlinewidth": 0,
              "ticks": ""
             }
            },
            "type": "scatterpolar"
           }
          ],
          "scatterpolargl": [
           {
            "marker": {
             "colorbar": {
              "outlinewidth": 0,
              "ticks": ""
             }
            },
            "type": "scatterpolargl"
           }
          ],
          "scatterternary": [
           {
            "marker": {
             "colorbar": {
              "outlinewidth": 0,
              "ticks": ""
             }
            },
            "type": "scatterternary"
           }
          ],
          "surface": [
           {
            "colorbar": {
             "outlinewidth": 0,
             "ticks": ""
            },
            "colorscale": [
             [
              0,
              "#0d0887"
             ],
             [
              0.1111111111111111,
              "#46039f"
             ],
             [
              0.2222222222222222,
              "#7201a8"
             ],
             [
              0.3333333333333333,
              "#9c179e"
             ],
             [
              0.4444444444444444,
              "#bd3786"
             ],
             [
              0.5555555555555556,
              "#d8576b"
             ],
             [
              0.6666666666666666,
              "#ed7953"
             ],
             [
              0.7777777777777778,
              "#fb9f3a"
             ],
             [
              0.8888888888888888,
              "#fdca26"
             ],
             [
              1,
              "#f0f921"
             ]
            ],
            "type": "surface"
           }
          ],
          "table": [
           {
            "cells": {
             "fill": {
              "color": "#EBF0F8"
             },
             "line": {
              "color": "white"
             }
            },
            "header": {
             "fill": {
              "color": "#C8D4E3"
             },
             "line": {
              "color": "white"
             }
            },
            "type": "table"
           }
          ]
         },
         "layout": {
          "annotationdefaults": {
           "arrowcolor": "#2a3f5f",
           "arrowhead": 0,
           "arrowwidth": 1
          },
          "autotypenumbers": "strict",
          "coloraxis": {
           "colorbar": {
            "outlinewidth": 0,
            "ticks": ""
           }
          },
          "colorscale": {
           "diverging": [
            [
             0,
             "#8e0152"
            ],
            [
             0.1,
             "#c51b7d"
            ],
            [
             0.2,
             "#de77ae"
            ],
            [
             0.3,
             "#f1b6da"
            ],
            [
             0.4,
             "#fde0ef"
            ],
            [
             0.5,
             "#f7f7f7"
            ],
            [
             0.6,
             "#e6f5d0"
            ],
            [
             0.7,
             "#b8e186"
            ],
            [
             0.8,
             "#7fbc41"
            ],
            [
             0.9,
             "#4d9221"
            ],
            [
             1,
             "#276419"
            ]
           ],
           "sequential": [
            [
             0,
             "#0d0887"
            ],
            [
             0.1111111111111111,
             "#46039f"
            ],
            [
             0.2222222222222222,
             "#7201a8"
            ],
            [
             0.3333333333333333,
             "#9c179e"
            ],
            [
             0.4444444444444444,
             "#bd3786"
            ],
            [
             0.5555555555555556,
             "#d8576b"
            ],
            [
             0.6666666666666666,
             "#ed7953"
            ],
            [
             0.7777777777777778,
             "#fb9f3a"
            ],
            [
             0.8888888888888888,
             "#fdca26"
            ],
            [
             1,
             "#f0f921"
            ]
           ],
           "sequentialminus": [
            [
             0,
             "#0d0887"
            ],
            [
             0.1111111111111111,
             "#46039f"
            ],
            [
             0.2222222222222222,
             "#7201a8"
            ],
            [
             0.3333333333333333,
             "#9c179e"
            ],
            [
             0.4444444444444444,
             "#bd3786"
            ],
            [
             0.5555555555555556,
             "#d8576b"
            ],
            [
             0.6666666666666666,
             "#ed7953"
            ],
            [
             0.7777777777777778,
             "#fb9f3a"
            ],
            [
             0.8888888888888888,
             "#fdca26"
            ],
            [
             1,
             "#f0f921"
            ]
           ]
          },
          "colorway": [
           "#636efa",
           "#EF553B",
           "#00cc96",
           "#ab63fa",
           "#FFA15A",
           "#19d3f3",
           "#FF6692",
           "#B6E880",
           "#FF97FF",
           "#FECB52"
          ],
          "font": {
           "color": "#2a3f5f"
          },
          "geo": {
           "bgcolor": "white",
           "lakecolor": "white",
           "landcolor": "#E5ECF6",
           "showlakes": true,
           "showland": true,
           "subunitcolor": "white"
          },
          "hoverlabel": {
           "align": "left"
          },
          "hovermode": "closest",
          "mapbox": {
           "style": "light"
          },
          "paper_bgcolor": "white",
          "plot_bgcolor": "#E5ECF6",
          "polar": {
           "angularaxis": {
            "gridcolor": "white",
            "linecolor": "white",
            "ticks": ""
           },
           "bgcolor": "#E5ECF6",
           "radialaxis": {
            "gridcolor": "white",
            "linecolor": "white",
            "ticks": ""
           }
          },
          "scene": {
           "xaxis": {
            "backgroundcolor": "#E5ECF6",
            "gridcolor": "white",
            "gridwidth": 2,
            "linecolor": "white",
            "showbackground": true,
            "ticks": "",
            "zerolinecolor": "white"
           },
           "yaxis": {
            "backgroundcolor": "#E5ECF6",
            "gridcolor": "white",
            "gridwidth": 2,
            "linecolor": "white",
            "showbackground": true,
            "ticks": "",
            "zerolinecolor": "white"
           },
           "zaxis": {
            "backgroundcolor": "#E5ECF6",
            "gridcolor": "white",
            "gridwidth": 2,
            "linecolor": "white",
            "showbackground": true,
            "ticks": "",
            "zerolinecolor": "white"
           }
          },
          "shapedefaults": {
           "line": {
            "color": "#2a3f5f"
           }
          },
          "ternary": {
           "aaxis": {
            "gridcolor": "white",
            "linecolor": "white",
            "ticks": ""
           },
           "baxis": {
            "gridcolor": "white",
            "linecolor": "white",
            "ticks": ""
           },
           "bgcolor": "#E5ECF6",
           "caxis": {
            "gridcolor": "white",
            "linecolor": "white",
            "ticks": ""
           }
          },
          "title": {
           "x": 0.05
          },
          "xaxis": {
           "automargin": true,
           "gridcolor": "white",
           "linecolor": "white",
           "ticks": "",
           "title": {
            "standoff": 15
           },
           "zerolinecolor": "white",
           "zerolinewidth": 2
          },
          "yaxis": {
           "automargin": true,
           "gridcolor": "white",
           "linecolor": "white",
           "ticks": "",
           "title": {
            "standoff": 15
           },
           "zerolinecolor": "white",
           "zerolinewidth": 2
          }
         }
        },
        "title": {
         "text": "Profit Per Succesful cycle with interest=1.5%"
        },
        "xaxis": {
         "title": {
          "text": "Succesfull Cycle"
         }
        },
        "yaxis": {
         "title": {
          "text": "Profit [%]"
         }
        }
       }
      },
      "text/html": [
       "<div>                            <div id=\"8881658d-cfc4-4c81-905c-f8c71265b2f9\" class=\"plotly-graph-div\" style=\"height:525px; width:100%;\"></div>            <script type=\"text/javascript\">                require([\"plotly\"], function(Plotly) {                    window.PLOTLYENV=window.PLOTLYENV || {};                                    if (document.getElementById(\"8881658d-cfc4-4c81-905c-f8c71265b2f9\")) {                    Plotly.newPlot(                        \"8881658d-cfc4-4c81-905c-f8c71265b2f9\",                        [{\"mode\": \"lines\", \"name\": \"Bitstamp: Excluding Profit\", \"type\": \"scatter\", \"x\": [0, 1, 2, 3, 4, 5, 6, 7, 8, 9, 10, 11, 12, 13, 14, 15, 16, 17, 18, 19, 20, 21, 22, 23, 24, 25, 26, 27, 28, 29, 30, 31, 32, 33, 34, 35, 36, 37, 38, 39, 40, 41, 42, 43, 44, 45, 46, 47, 48, 49], \"y\": [0.0, 0.4875374999999904, 0.9750749999999808, 1.4626124999999712, 1.9501499999999616, 2.437687499999952, 2.9252249999999425, 3.412762499999933, 3.9002999999999233, 4.387837499999914, 4.875374999999904, 5.3629124999998945, 5.850449999999885, 6.337987499999875, 6.825524999999866, 7.313062499999856, 7.8005999999998465, 8.288137499999838, 8.775674999999827, 9.263212499999817, 9.750749999999808, 10.2382874999998, 10.725824999999789, 11.213362499999779, 11.70089999999977, 12.188437499999761, 12.67597499999975, 13.16351249999974, 13.651049999999731, 14.138587499999723, 14.626124999999712, 15.113662499999702, 15.601199999999693, 16.088737499999684, 16.576274999999676, 17.063812499999663, 17.551349999999655, 18.038887499999646, 18.526424999999634, 19.013962499999625, 19.501499999999616, 19.989037499999608, 20.4765749999996, 20.964112499999587, 21.451649999999578, 21.93918749999957, 22.426724999999557, 22.91426249999955, 23.40179999999954, 23.88933749999953]}, {\"mode\": \"lines\", \"name\": \"Bitstamp: Including Profit\", \"type\": \"scatter\", \"x\": [0, 1, 2, 3, 4, 5, 6, 7, 8, 9, 10, 11, 12, 13, 14, 15, 16, 17, 18, 19, 20, 21, 22, 23, 24, 25, 26, 27, 28, 29, 30, 31, 32, 33, 34, 35, 36, 37, 38, 39, 40, 41, 42, 43, 44, 45, 46, 47, 48, 49], \"y\": [0.0, 0.4875374999999904, 0.9774519281390504, 1.4697548728331844, 1.9644579789963146, 2.46157294831566, 2.961111539528538, 3.4630855687005635, 3.9675069095050475, 4.474387493503973, 4.983739310430102, 5.495574408470683, 6.009904894552376, 6.526742934627627, 7.046100753962525, 7.567990637425881, 8.092424929779796, 8.619416035971827, 9.148976421428179, 9.681118612348794, 10.215855196003453, 10.753198821029674, 11.293162197731732, 11.835758098381488, 12.380999357520373, 12.928898872263028, 13.479469602602379, 14.032724571716159, 14.588676866274985, 15.147339636751877, 15.708726097733393, 16.272849528232136, 16.83972327200083, 17.409360737848047, 17.981775399955314, 18.556980798195855, 19.134990538454865, 19.71581829295126, 20.29947780056125, 20.88598286714316, 21.475347365864028, 22.067585237527876, 22.66271049090527, 23.260737203064853, 23.861679519706236, 24.46555165549462, 25.07236789439702, 25.682142590020153, 26.294890165949948, 26.910625116092767]}, {\"mode\": \"lines\", \"name\": \"Kraken 26: Excluding Profit\", \"type\": \"scatter\", \"x\": [0, 1, 2, 3, 4, 5, 6, 7, 8, 9, 10, 11, 12, 13, 14, 15, 16, 17, 18, 19, 20, 21, 22, 23, 24, 25, 26, 27, 28, 29, 30, 31, 32, 33, 34, 35, 36, 37, 38, 39, 40, 41, 42, 43, 44, 45, 46, 47, 48, 49], \"y\": [0.0, 0.9728861399999733, 1.9457722799999466, 2.91865841999992, 3.8915445599998932, 4.8644306999998665, 5.83731683999984, 6.810202979999813, 7.7830891199997865, 8.75597525999976, 9.728861399999733, 10.701747539999706, 11.67463367999968, 12.647519819999653, 13.620405959999626, 14.5932920999996, 15.566178239999573, 16.539064379999544, 17.51195051999952, 18.484836659999495, 19.457722799999466, 20.430608939999438, 21.403495079999413, 22.376381219999388, 23.34926735999936, 24.32215349999933, 25.295039639999306, 26.26792577999928, 27.240811919999253, 28.213698059999224, 29.1865841999992, 30.159470339999174, 31.132356479999146, 32.10524261999912, 33.07812875999909, 34.05101489999907, 35.02390103999904, 35.99678717999901, 36.96967331999899, 37.94255945999896, 38.91544559999893, 39.888331739998904, 40.861217879998875, 41.834104019998854, 42.806990159998826, 43.7798762999988, 44.752762439998776, 45.72564857999875, 46.69853471999872, 47.67142085999869]}, {\"mode\": \"lines\", \"name\": \"Kraken 26: Including Profit\", \"type\": \"scatter\", \"x\": [0, 1, 2, 3, 4, 5, 6, 7, 8, 9, 10, 11, 12, 13, 14, 15, 16, 17, 18, 19, 20, 21, 22, 23, 24, 25, 26, 27, 28, 29, 30, 31, 32, 33, 34, 35, 36, 37, 38, 39, 40, 41, 42, 43, 44, 45, 46, 47, 48, 49], \"y\": [0.0, 0.9728861399999733, 1.9552373544139856, 2.9471457276391666, 3.9487042399489303, 4.960006776208958, 5.981148134677738, 7.012224035892856, 8.05333113164377, 9.104567014031817, 10.166030224618305, 11.237820263661803, 12.320037599445044, 13.412783677692808, 14.516160931081235, 15.630272788839793, 16.755223686446573, 17.891119075417983, 19.038065433193573, 20.196170273117218, 21.36554215451514, 22.54629069287224, 23.73852657010729, 24.942361544948042, 26.157908463407487, 27.38528126936184, 28.624595015231446, 29.875965872765732, 31.139511143932964, 32.41534927191601, 33.70359985221503, 35.00438364385825, 36.31782258072174, 37.64403978295934, 38.98315956854379, 40.3353074649202, 41.70061022077276, 43.07919581790605, 44.47119348324187, 45.87673370093288, 47.29594822459393, 48.728970089652535, 50.17593362581947, 51.63697446968063, 53.11222957741146, 54.60183723761502, 56.10593708428511, 57.624670109895185, 59.15817867861504, 60.706606539655674]}, {\"mode\": \"lines\", \"name\": \"Kraken 16: Excluding Profit\", \"type\": \"scatter\", \"x\": [0, 1, 2, 3, 4, 5, 6, 7, 8, 9, 10, 11, 12, 13, 14, 15, 16, 17, 18, 19, 20, 21, 22, 23, 24, 25, 26, 27, 28, 29, 30, 31, 32, 33, 34, 35, 36, 37, 38, 39, 40, 41, 42, 43, 44, 45, 46, 47, 48, 49], \"y\": [0.0, 1.1754598399999816, 2.350919679999963, 3.526379519999945, 4.701839359999926, 5.877299199999908, 7.05275903999989, 8.228218879999872, 9.403678719999853, 10.579138559999834, 11.754598399999816, 12.930058239999799, 14.10551807999978, 15.28097791999976, 16.456437759999744, 17.631897599999725, 18.807357439999706, 19.982817279999686, 21.158277119999667, 22.33373695999965, 23.509196799999632, 24.684656639999613, 25.860116479999597, 27.035576319999578, 28.21103615999956, 29.38649599999954, 30.56195583999952, 31.737415679999504, 32.91287551999949, 34.08833535999947, 35.26379519999945, 36.43925503999943, 37.61471487999941, 38.79017471999939, 39.96563455999937, 41.14109439999935, 42.316554239999334, 43.49201407999932, 44.6674739199993, 45.84293375999928, 47.018393599999264, 48.193853439999245, 49.369313279999226, 50.544773119999206, 51.720232959999194, 52.895692799999175, 54.071152639999156, 55.246612479999136, 56.42207231999912, 57.5975321599991]}, {\"mode\": \"lines\", \"name\": \"Kraken 16: Including Profit\", \"type\": \"scatter\", \"x\": [0, 1, 2, 3, 4, 5, 6, 7, 8, 9, 10, 11, 12, 13, 14, 15, 16, 17, 18, 19, 20, 21, 22, 23, 24, 25, 26, 27, 28, 29, 30, 31, 32, 33, 34, 35, 36, 37, 38, 39, 40, 41, 42, 43, 44, 45, 46, 47, 48, 49], \"y\": [0.0, 1.1754598399999816, 2.3647367383544893, 3.56799310903555, 4.785393275126215, 6.017103491261366, 7.2632919663323525, 8.524128886458527, 9.799786438228676, 11.090438832215789, 12.396262326768227, 13.717435252080424, 15.054138034546604, 16.406553221400856, 17.77486550564662, 19.159261751279487, 20.559931018806243, 21.97706459106399, 23.410855999342782, 24.86150104981526, 26.329197850276987, 27.814146837201115, 29.31655080311102, 30.836614924274762, 32.37454678872504, 33.9305564246085, 35.504856328868286, 37.09766149626379, 38.70918944873149, 40.339660265090835, 41.98929661109938, 43.65832376986132, 45.346969672593175, 47.05546492975146, 48.78404286252596, 50.5329395347033, 52.3023937849052, 54.09264725920537, 55.90394444413018, 57.736532700046794, 59.590662294944295, 61.46658643861136, 63.364561317216086, 65.2848461282921, 67.22770311613596, 69.19339760762054, 71.1821980484296, 73.19437603971812, 75.23020637520355, 77.28996707869315]}],                        {\"template\": {\"data\": {\"bar\": [{\"error_x\": {\"color\": \"#2a3f5f\"}, \"error_y\": {\"color\": \"#2a3f5f\"}, \"marker\": {\"line\": {\"color\": \"#E5ECF6\", \"width\": 0.5}}, \"type\": \"bar\"}], \"barpolar\": [{\"marker\": {\"line\": {\"color\": \"#E5ECF6\", \"width\": 0.5}}, \"type\": \"barpolar\"}], \"carpet\": [{\"aaxis\": {\"endlinecolor\": \"#2a3f5f\", \"gridcolor\": \"white\", \"linecolor\": \"white\", \"minorgridcolor\": \"white\", \"startlinecolor\": \"#2a3f5f\"}, \"baxis\": {\"endlinecolor\": \"#2a3f5f\", \"gridcolor\": \"white\", \"linecolor\": \"white\", \"minorgridcolor\": \"white\", \"startlinecolor\": \"#2a3f5f\"}, \"type\": \"carpet\"}], \"choropleth\": [{\"colorbar\": {\"outlinewidth\": 0, \"ticks\": \"\"}, \"type\": \"choropleth\"}], \"contour\": [{\"colorbar\": {\"outlinewidth\": 0, \"ticks\": \"\"}, \"colorscale\": [[0.0, \"#0d0887\"], [0.1111111111111111, \"#46039f\"], [0.2222222222222222, \"#7201a8\"], [0.3333333333333333, \"#9c179e\"], [0.4444444444444444, \"#bd3786\"], [0.5555555555555556, \"#d8576b\"], [0.6666666666666666, \"#ed7953\"], [0.7777777777777778, \"#fb9f3a\"], [0.8888888888888888, \"#fdca26\"], [1.0, \"#f0f921\"]], \"type\": \"contour\"}], \"contourcarpet\": [{\"colorbar\": {\"outlinewidth\": 0, \"ticks\": \"\"}, \"type\": \"contourcarpet\"}], \"heatmap\": [{\"colorbar\": {\"outlinewidth\": 0, \"ticks\": \"\"}, \"colorscale\": [[0.0, \"#0d0887\"], [0.1111111111111111, \"#46039f\"], [0.2222222222222222, \"#7201a8\"], [0.3333333333333333, \"#9c179e\"], [0.4444444444444444, \"#bd3786\"], [0.5555555555555556, \"#d8576b\"], [0.6666666666666666, \"#ed7953\"], [0.7777777777777778, \"#fb9f3a\"], [0.8888888888888888, \"#fdca26\"], [1.0, \"#f0f921\"]], \"type\": \"heatmap\"}], \"heatmapgl\": [{\"colorbar\": {\"outlinewidth\": 0, \"ticks\": \"\"}, \"colorscale\": [[0.0, \"#0d0887\"], [0.1111111111111111, \"#46039f\"], [0.2222222222222222, \"#7201a8\"], [0.3333333333333333, \"#9c179e\"], [0.4444444444444444, \"#bd3786\"], [0.5555555555555556, \"#d8576b\"], [0.6666666666666666, \"#ed7953\"], [0.7777777777777778, \"#fb9f3a\"], [0.8888888888888888, \"#fdca26\"], [1.0, \"#f0f921\"]], \"type\": \"heatmapgl\"}], \"histogram\": [{\"marker\": {\"colorbar\": {\"outlinewidth\": 0, \"ticks\": \"\"}}, \"type\": \"histogram\"}], \"histogram2d\": [{\"colorbar\": {\"outlinewidth\": 0, \"ticks\": \"\"}, \"colorscale\": [[0.0, \"#0d0887\"], [0.1111111111111111, \"#46039f\"], [0.2222222222222222, \"#7201a8\"], [0.3333333333333333, \"#9c179e\"], [0.4444444444444444, \"#bd3786\"], [0.5555555555555556, \"#d8576b\"], [0.6666666666666666, \"#ed7953\"], [0.7777777777777778, \"#fb9f3a\"], [0.8888888888888888, \"#fdca26\"], [1.0, \"#f0f921\"]], \"type\": \"histogram2d\"}], \"histogram2dcontour\": [{\"colorbar\": {\"outlinewidth\": 0, \"ticks\": \"\"}, \"colorscale\": [[0.0, \"#0d0887\"], [0.1111111111111111, \"#46039f\"], [0.2222222222222222, \"#7201a8\"], [0.3333333333333333, \"#9c179e\"], [0.4444444444444444, \"#bd3786\"], [0.5555555555555556, \"#d8576b\"], [0.6666666666666666, \"#ed7953\"], [0.7777777777777778, \"#fb9f3a\"], [0.8888888888888888, \"#fdca26\"], [1.0, \"#f0f921\"]], \"type\": \"histogram2dcontour\"}], \"mesh3d\": [{\"colorbar\": {\"outlinewidth\": 0, \"ticks\": \"\"}, \"type\": \"mesh3d\"}], \"parcoords\": [{\"line\": {\"colorbar\": {\"outlinewidth\": 0, \"ticks\": \"\"}}, \"type\": \"parcoords\"}], \"pie\": [{\"automargin\": true, \"type\": \"pie\"}], \"scatter\": [{\"marker\": {\"colorbar\": {\"outlinewidth\": 0, \"ticks\": \"\"}}, \"type\": \"scatter\"}], \"scatter3d\": [{\"line\": {\"colorbar\": {\"outlinewidth\": 0, \"ticks\": \"\"}}, \"marker\": {\"colorbar\": {\"outlinewidth\": 0, \"ticks\": \"\"}}, \"type\": \"scatter3d\"}], \"scattercarpet\": [{\"marker\": {\"colorbar\": {\"outlinewidth\": 0, \"ticks\": \"\"}}, \"type\": \"scattercarpet\"}], \"scattergeo\": [{\"marker\": {\"colorbar\": {\"outlinewidth\": 0, \"ticks\": \"\"}}, \"type\": \"scattergeo\"}], \"scattergl\": [{\"marker\": {\"colorbar\": {\"outlinewidth\": 0, \"ticks\": \"\"}}, \"type\": \"scattergl\"}], \"scattermapbox\": [{\"marker\": {\"colorbar\": {\"outlinewidth\": 0, \"ticks\": \"\"}}, \"type\": \"scattermapbox\"}], \"scatterpolar\": [{\"marker\": {\"colorbar\": {\"outlinewidth\": 0, \"ticks\": \"\"}}, \"type\": \"scatterpolar\"}], \"scatterpolargl\": [{\"marker\": {\"colorbar\": {\"outlinewidth\": 0, \"ticks\": \"\"}}, \"type\": \"scatterpolargl\"}], \"scatterternary\": [{\"marker\": {\"colorbar\": {\"outlinewidth\": 0, \"ticks\": \"\"}}, \"type\": \"scatterternary\"}], \"surface\": [{\"colorbar\": {\"outlinewidth\": 0, \"ticks\": \"\"}, \"colorscale\": [[0.0, \"#0d0887\"], [0.1111111111111111, \"#46039f\"], [0.2222222222222222, \"#7201a8\"], [0.3333333333333333, \"#9c179e\"], [0.4444444444444444, \"#bd3786\"], [0.5555555555555556, \"#d8576b\"], [0.6666666666666666, \"#ed7953\"], [0.7777777777777778, \"#fb9f3a\"], [0.8888888888888888, \"#fdca26\"], [1.0, \"#f0f921\"]], \"type\": \"surface\"}], \"table\": [{\"cells\": {\"fill\": {\"color\": \"#EBF0F8\"}, \"line\": {\"color\": \"white\"}}, \"header\": {\"fill\": {\"color\": \"#C8D4E3\"}, \"line\": {\"color\": \"white\"}}, \"type\": \"table\"}]}, \"layout\": {\"annotationdefaults\": {\"arrowcolor\": \"#2a3f5f\", \"arrowhead\": 0, \"arrowwidth\": 1}, \"autotypenumbers\": \"strict\", \"coloraxis\": {\"colorbar\": {\"outlinewidth\": 0, \"ticks\": \"\"}}, \"colorscale\": {\"diverging\": [[0, \"#8e0152\"], [0.1, \"#c51b7d\"], [0.2, \"#de77ae\"], [0.3, \"#f1b6da\"], [0.4, \"#fde0ef\"], [0.5, \"#f7f7f7\"], [0.6, \"#e6f5d0\"], [0.7, \"#b8e186\"], [0.8, \"#7fbc41\"], [0.9, \"#4d9221\"], [1, \"#276419\"]], \"sequential\": [[0.0, \"#0d0887\"], [0.1111111111111111, \"#46039f\"], [0.2222222222222222, \"#7201a8\"], [0.3333333333333333, \"#9c179e\"], [0.4444444444444444, \"#bd3786\"], [0.5555555555555556, \"#d8576b\"], [0.6666666666666666, \"#ed7953\"], [0.7777777777777778, \"#fb9f3a\"], [0.8888888888888888, \"#fdca26\"], [1.0, \"#f0f921\"]], \"sequentialminus\": [[0.0, \"#0d0887\"], [0.1111111111111111, \"#46039f\"], [0.2222222222222222, \"#7201a8\"], [0.3333333333333333, \"#9c179e\"], [0.4444444444444444, \"#bd3786\"], [0.5555555555555556, \"#d8576b\"], [0.6666666666666666, \"#ed7953\"], [0.7777777777777778, \"#fb9f3a\"], [0.8888888888888888, \"#fdca26\"], [1.0, \"#f0f921\"]]}, \"colorway\": [\"#636efa\", \"#EF553B\", \"#00cc96\", \"#ab63fa\", \"#FFA15A\", \"#19d3f3\", \"#FF6692\", \"#B6E880\", \"#FF97FF\", \"#FECB52\"], \"font\": {\"color\": \"#2a3f5f\"}, \"geo\": {\"bgcolor\": \"white\", \"lakecolor\": \"white\", \"landcolor\": \"#E5ECF6\", \"showlakes\": true, \"showland\": true, \"subunitcolor\": \"white\"}, \"hoverlabel\": {\"align\": \"left\"}, \"hovermode\": \"closest\", \"mapbox\": {\"style\": \"light\"}, \"paper_bgcolor\": \"white\", \"plot_bgcolor\": \"#E5ECF6\", \"polar\": {\"angularaxis\": {\"gridcolor\": \"white\", \"linecolor\": \"white\", \"ticks\": \"\"}, \"bgcolor\": \"#E5ECF6\", \"radialaxis\": {\"gridcolor\": \"white\", \"linecolor\": \"white\", \"ticks\": \"\"}}, \"scene\": {\"xaxis\": {\"backgroundcolor\": \"#E5ECF6\", \"gridcolor\": \"white\", \"gridwidth\": 2, \"linecolor\": \"white\", \"showbackground\": true, \"ticks\": \"\", \"zerolinecolor\": \"white\"}, \"yaxis\": {\"backgroundcolor\": \"#E5ECF6\", \"gridcolor\": \"white\", \"gridwidth\": 2, \"linecolor\": \"white\", \"showbackground\": true, \"ticks\": \"\", \"zerolinecolor\": \"white\"}, \"zaxis\": {\"backgroundcolor\": \"#E5ECF6\", \"gridcolor\": \"white\", \"gridwidth\": 2, \"linecolor\": \"white\", \"showbackground\": true, \"ticks\": \"\", \"zerolinecolor\": \"white\"}}, \"shapedefaults\": {\"line\": {\"color\": \"#2a3f5f\"}}, \"ternary\": {\"aaxis\": {\"gridcolor\": \"white\", \"linecolor\": \"white\", \"ticks\": \"\"}, \"baxis\": {\"gridcolor\": \"white\", \"linecolor\": \"white\", \"ticks\": \"\"}, \"bgcolor\": \"#E5ECF6\", \"caxis\": {\"gridcolor\": \"white\", \"linecolor\": \"white\", \"ticks\": \"\"}}, \"title\": {\"x\": 0.05}, \"xaxis\": {\"automargin\": true, \"gridcolor\": \"white\", \"linecolor\": \"white\", \"ticks\": \"\", \"title\": {\"standoff\": 15}, \"zerolinecolor\": \"white\", \"zerolinewidth\": 2}, \"yaxis\": {\"automargin\": true, \"gridcolor\": \"white\", \"linecolor\": \"white\", \"ticks\": \"\", \"title\": {\"standoff\": 15}, \"zerolinecolor\": \"white\", \"zerolinewidth\": 2}}}, \"title\": {\"text\": \"Profit Per Succesful cycle with interest=1.5%\"}, \"xaxis\": {\"title\": {\"text\": \"Succesfull Cycle\"}}, \"yaxis\": {\"title\": {\"text\": \"Profit [%]\"}}},                        {\"responsive\": true}                    ).then(function(){\n",
       "                            \n",
       "var gd = document.getElementById('8881658d-cfc4-4c81-905c-f8c71265b2f9');\n",
       "var x = new MutationObserver(function (mutations, observer) {{\n",
       "        var display = window.getComputedStyle(gd).display;\n",
       "        if (!display || display === 'none') {{\n",
       "            console.log([gd, 'removed!']);\n",
       "            Plotly.purge(gd);\n",
       "            observer.disconnect();\n",
       "        }}\n",
       "}});\n",
       "\n",
       "// Listen for the removal of the full notebook cells\n",
       "var notebookContainer = gd.closest('#notebook-container');\n",
       "if (notebookContainer) {{\n",
       "    x.observe(notebookContainer, {childList: true});\n",
       "}}\n",
       "\n",
       "// Listen for the clearing of the current output cell\n",
       "var outputEl = gd.closest('.output');\n",
       "if (outputEl) {{\n",
       "    x.observe(outputEl, {childList: true});\n",
       "}}\n",
       "\n",
       "                        })                };                });            </script>        </div>"
      ]
     },
     "metadata": {},
     "output_type": "display_data"
    }
   ],
   "source": [
    "# Edit the layout\n",
    "fig = go.Figure()\n",
    "fig.add_trace(go.Scatter(x=succesful_cycles, y=bit_stamp_profit_reinvesting_excluding_profit,\n",
    "                    mode='lines',\n",
    "                    name='Bitstamp: Excluding Profit'))\n",
    "fig.add_trace(go.Scatter(x=succesful_cycles, y=bit_stamp_profit_reinvesting_including_profit,\n",
    "                    mode='lines',\n",
    "                    name='Bitstamp: Including Profit'))\n",
    "fig.add_trace(go.Scatter(x=succesful_cycles, y=kraken_profit_reinvesting_excluding_profit_26,\n",
    "                    mode='lines',\n",
    "                    name='Kraken 26: Excluding Profit'))\n",
    "fig.add_trace(go.Scatter(x=succesful_cycles, y=kraken_profit_reinvesting_including_profit_26,\n",
    "                    mode='lines',\n",
    "                    name='Kraken 26: Including Profit'))\n",
    "fig.add_trace(go.Scatter(x=succesful_cycles, y=kraken_profit_reinvesting_excluding_profit_16,\n",
    "                    mode='lines',\n",
    "                    name='Kraken 16: Excluding Profit'))\n",
    "fig.add_trace(go.Scatter(x=succesful_cycles, y=kraken_profit_reinvesting_including_profit_16,\n",
    "                    mode='lines',\n",
    "                    name='Kraken 16: Including Profit'))\n",
    "fig.update_layout(title=f'Profit Per Succesful cycle with interest={interest*100}%',\n",
    "                   xaxis_title='Succesfull Cycle',\n",
    "                   yaxis_title='Profit [%]')\n",
    "fig.show()"
   ]
  },
  {
   "cell_type": "markdown",
   "metadata": {},
   "source": [
    "## Conclusion \n",
    "Kraken is alot cheaper and more profitable. Also note that kraken has maker fees which are 0.16% instead of 26\\% as takers fees which can be taken into consideration in the strategy. "
   ]
  },
  {
   "cell_type": "markdown",
   "metadata": {},
   "source": [
    "## Algorithmic Implementation"
   ]
  },
  {
   "cell_type": "markdown",
   "metadata": {},
   "source": [
    "<ol>\n",
    "  <li>Buy in at previous day low price (assuming there is not bull/bear run)</li>\n",
    "  <li>Check ask prices on a t sec interval</li>\n",
    "  <li>If ask price is the required percent increase then sell</li>\n",
    "  <li>Check ask prices on a t sec interval</li>\n",
    "  <li>If ask price is = original buy price then buy </li>\n",
    "  <li>Continue and repeat</li>\n",
    "</ol>\n"
   ]
  }
 ],
 "metadata": {
  "kernelspec": {
   "display_name": "Python 3",
   "language": "python",
   "name": "python3"
  },
  "language_info": {
   "codemirror_mode": {
    "name": "ipython",
    "version": 3
   },
   "file_extension": ".py",
   "mimetype": "text/x-python",
   "name": "python",
   "nbconvert_exporter": "python",
   "pygments_lexer": "ipython3",
   "version": "3.6.9"
  }
 },
 "nbformat": 4,
 "nbformat_minor": 2
}
