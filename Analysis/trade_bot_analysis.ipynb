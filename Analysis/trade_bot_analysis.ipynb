{
 "cells": [
  {
   "cell_type": "markdown",
   "metadata": {},
   "source": [
    "# Trade Bot Analysis"
   ]
  },
  {
   "cell_type": "markdown",
   "metadata": {},
   "source": [
    "## Background \n",
    "\n",
    "Ripple's XRP is a top 5 market cap crypto currency traded on multiple markets. The price of XRP is highly volatile and commonly fluctuates multiple percent per day with the occasional bull/bear runs. \n",
    "\n",
    "One of the more popular exchanges for trading XRP is Bitstamp. Bitstamp has a open [api](https://www.bitstamp.net/api/) which allows the user to extract real time market data and information connected to the users account. This allows the user create trades through the api, giving the possibilty to set up trading automation in form of a bot which implements a trading strategy.  "
   ]
  },
  {
   "cell_type": "markdown",
   "metadata": {},
   "source": [
    "# Trading Strategy\n",
    "\n",
    "Using the daily fluctuation in price a naive strategy could be:\n",
    "\n",
    "<ol>\n",
    "  <li>Buy at a price X</li>\n",
    "  <li>Sell at price Y, where price why is a big enough increase in price to gain some profit while covering fee</li>\n",
    "  <li>Repeat the process when price is X using the intial value or inluding profits to purchase</li>\n",
    "</ol>\n",
    "\n",
    "### Problems\n",
    "The price might go up enough to sell, furthermore the price might not go down again after selling. "
   ]
  },
  {
   "cell_type": "markdown",
   "metadata": {},
   "source": [
    "## Mathematical  Formulation and Analysis"
   ]
  },
  {
   "cell_type": "markdown",
   "metadata": {},
   "source": [
    "#### Nomenclature\n",
    "$P$: Profit \\[\\$\\] <br>\n",
    "$V_0$: Value of initial investment \\[\\$\\]<br>\n",
    "$i$: Interest [%] <br>\n",
    "$f$: Trading Fee  [%] <br>\n",
    "$n$: Number of succesful cycles <br>\n",
    "$c$: Increase value [%] <br>\n",
    "\n",
    "#### Profits Excluding Profits\n",
    "The profit per succesful cycle when reinvesting **excluding** profits is given by,\n",
    "\n",
    "$$P = V_0(1+i) - V_0(1+i)f - V_0f - V_0 = V_0((1+i) - (1+i)f - f - 1)$$\n",
    "$$c = (1+i) - (1+i)f - f$$\n",
    "$$P = V_0(c-1)$$\n",
    "\n",
    "The potential total proft is given by,\n",
    "\n",
    "$$ P_{tot} = \\sum_{i=0}^n P_i = nP$$\n",
    "\n",
    "#### Profits Including Profits\n",
    "The profit per succesful cycle when reinvesting **including** profits is given by,\n",
    "\n",
    "$$V_0 = V_0$$\n",
    "$$V_1 = V_0c$$\n",
    "$$V_2 = V_1c=V_0c²$$\n",
    "$$V_3 = V_2c=V_0c³$$\n",
    "$$\\vdots$$\n",
    "$$V_n = V_0c^n$$.\n",
    "$$P_n = V_n - V_0 =  V_0c^n - V_0 = V_0 (c^n - 1)$$\n",
    "\n",
    "#### Required Interest Rate\n",
    "The minimum interest required to break $P=0$ even is, \n",
    "\n",
    "$$c = (1+i) - (1+i)f - f) = 1  \\rightarrow i = \\frac{f+1}{(1-f)}$$\n",
    "\n",
    "The fee on bitstamp is 0.05% which gives\n",
    "\n",
    "$$P(0.005) = 0.010050251256281229 \\rightarrow 1.0050251256281229\\% $$\n",
    "\n",
    "as the break even interest rate. The change in profit based on changes in interest can be described by the derivative,\n",
    "\n",
    "$$ \\frac{dP}{di} = V_0(1-f) $$\n",
    "\n",
    "the increase in profit based on changes in interest is constant. "
   ]
  },
  {
   "cell_type": "markdown",
   "metadata": {},
   "source": [
    "### Visualisation"
   ]
  },
  {
   "cell_type": "code",
   "execution_count": null,
   "metadata": {},
   "outputs": [],
   "source": [
    "import matplotlib.pyplot as plt\n",
    "import numpy as np\n",
    "import plotly.graph_objects as go\n",
    "\n",
    "# Constants\n",
    "initial_value = 1000\n",
    "fee = 0.005\n",
    "interest = 0.015\n",
    "value_increase = (1 + interest) - (1 + interest) * fee - fee\n",
    "n = 100\n",
    "\n",
    "succesful_cycles = np.arange(500)\n",
    "profit_reinvesting_excluding_profit = [n * (value_increase - 1) * 100 for n in succesful_cycles]\n",
    "profit_reinvesting_including_profit = [(value_increase**n - 1) * 100 for n in succesful_cycles]\n",
    "\n"
   ]
  },
  {
   "cell_type": "code",
   "execution_count": null,
   "metadata": {},
   "outputs": [],
   "source": [
    "fig = go.Figure()\n",
    "fig.add_trace(go.Scatter(x=succesful_cycles, y=profit_reinvesting_excluding_profit,\n",
    "                    mode='lines',\n",
    "                    name='Excluding Profit'))\n",
    "fig.add_trace(go.Scatter(x=succesful_cycles, y=profit_reinvesting_including_profit,\n",
    "                    mode='lines',\n",
    "                    name='Including Profit'))\n",
    "\n",
    "# Edit the layout\n",
    "fig.update_layout(title=f'Profit Per Succesful cycle with interest={interest*100}%, fee={fee*100}%',\n",
    "                   xaxis_title='Succesfull Cycle',\n",
    "                   yaxis_title='Profit [%]')\n",
    "fig.show()"
   ]
  },
  {
   "cell_type": "markdown",
   "metadata": {},
   "source": [
    "## Conclusion \n",
    "The interest should be around 1.5% and including profits gives a noticable increase in profits after around 100 successfull cycles."
   ]
  },
  {
   "cell_type": "markdown",
   "metadata": {},
   "source": [
    "## Algorithmic Implementation"
   ]
  },
  {
   "cell_type": "markdown",
   "metadata": {},
   "source": [
    "<ol>\n",
    "  <li>Buy in at previous day low price (assuming there is not bull/bear run)</li>\n",
    "  <li>Check ask prices on a t sec interval</li>\n",
    "  <li>If ask price is the required percent increase then sell</li>\n",
    "  <li>Check ask prices on a t sec interval</li>\n",
    "  <li>If ask price is = original buy price then buy </li>\n",
    "  <li>Continue and repeat</li>\n",
    "</ol>\n"
   ]
  }
 ],
 "metadata": {
  "kernelspec": {
   "display_name": "Python 3",
   "language": "python",
   "name": "python3"
  },
  "language_info": {
   "codemirror_mode": {
    "name": "ipython",
    "version": 3
   },
   "file_extension": ".py",
   "mimetype": "text/x-python",
   "name": "python",
   "nbconvert_exporter": "python",
   "pygments_lexer": "ipython3",
   "version": "3.6.9"
  }
 },
 "nbformat": 4,
 "nbformat_minor": 2
}
